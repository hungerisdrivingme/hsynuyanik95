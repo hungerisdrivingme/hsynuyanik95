{
 "cells": [
  {
   "cell_type": "code",
   "execution_count": 1,
   "id": "8b039faf",
   "metadata": {},
   "outputs": [],
   "source": [
    "yeniliste=[1,2,3,4,5,6]\n",
    "\n"
   ]
  },
  {
   "cell_type": "code",
   "execution_count": 2,
   "id": "e3583985",
   "metadata": {},
   "outputs": [
    {
     "data": {
      "text/plain": [
       "[1, 2, 3, 4, 5, 6]"
      ]
     },
     "execution_count": 2,
     "metadata": {},
     "output_type": "execute_result"
    }
   ],
   "source": [
    "yeniliste"
   ]
  },
  {
   "cell_type": "code",
   "execution_count": 3,
   "id": "8a19fd99",
   "metadata": {},
   "outputs": [
    {
     "name": "stdout",
     "output_type": "stream",
     "text": [
      "1\n",
      "2\n",
      "3\n",
      "4\n",
      "5\n",
      "6\n"
     ]
    }
   ],
   "source": [
    "for rakam in yeniliste:\n",
    "    print(rakam)"
   ]
  },
  {
   "cell_type": "code",
   "execution_count": 6,
   "id": "19c8ab82",
   "metadata": {},
   "outputs": [
    {
     "data": {
      "text/plain": [
       "6"
      ]
     },
     "execution_count": 6,
     "metadata": {},
     "output_type": "execute_result"
    }
   ],
   "source": [
    "yeniliste2=[12,213,5,2,1,4]\n",
    "\n",
    "len(yeniliste2)"
   ]
  },
  {
   "cell_type": "code",
   "execution_count": 11,
   "id": "a8b72507",
   "metadata": {},
   "outputs": [
    {
     "name": "stdout",
     "output_type": "stream",
     "text": [
      "0\n",
      "1\n",
      "2\n",
      "3\n",
      "4\n",
      "5\n"
     ]
    }
   ],
   "source": [
    "for rakam in range(len(yeniliste2)):\n",
    "    print(rakam)"
   ]
  },
  {
   "cell_type": "code",
   "execution_count": 23,
   "id": "7055ad1e",
   "metadata": {},
   "outputs": [],
   "source": [
    "listem=[]"
   ]
  },
  {
   "cell_type": "code",
   "execution_count": 25,
   "id": "80333c7d",
   "metadata": {},
   "outputs": [],
   "source": [
    "for i in range(6):\n",
    "    listem.append(i)\n"
   ]
  },
  {
   "cell_type": "code",
   "execution_count": 26,
   "id": "ab533ff5",
   "metadata": {},
   "outputs": [
    {
     "data": {
      "text/plain": [
       "[0, 1, 2, 3, 4, 5, 0, 1, 2, 3, 4, 5]"
      ]
     },
     "execution_count": 26,
     "metadata": {},
     "output_type": "execute_result"
    }
   ],
   "source": [
    "listem"
   ]
  },
  {
   "cell_type": "code",
   "execution_count": 30,
   "id": "a3ccc2ee",
   "metadata": {},
   "outputs": [
    {
     "name": "stdout",
     "output_type": "stream",
     "text": [
      "sayi giriniz: 5\n"
     ]
    }
   ],
   "source": [
    "listem2=[]\n",
    "a=int(input('sayi giriniz: '))"
   ]
  },
  {
   "cell_type": "code",
   "execution_count": 31,
   "id": "4e9fc605",
   "metadata": {},
   "outputs": [
    {
     "data": {
      "text/plain": [
       "5"
      ]
     },
     "execution_count": 31,
     "metadata": {},
     "output_type": "execute_result"
    }
   ],
   "source": [
    "a"
   ]
  },
  {
   "cell_type": "code",
   "execution_count": 33,
   "id": "4589fb4e",
   "metadata": {},
   "outputs": [
    {
     "data": {
      "text/plain": [
       "[0, 1, 2, 3, 4, 0, 1, 2, 3, 4]"
      ]
     },
     "execution_count": 33,
     "metadata": {},
     "output_type": "execute_result"
    }
   ],
   "source": [
    "for i in range(a):\n",
    "    listem2.append(i)\n",
    "listem2"
   ]
  },
  {
   "cell_type": "code",
   "execution_count": 34,
   "id": "d0f42061",
   "metadata": {},
   "outputs": [
    {
     "name": "stdout",
     "output_type": "stream",
     "text": [
      "sayigiriniz: 5\n"
     ]
    }
   ],
   "source": [
    "listem3=[]\n",
    "x=int(input('sayigiriniz: '))\n"
   ]
  },
  {
   "cell_type": "code",
   "execution_count": 35,
   "id": "834d00b7",
   "metadata": {},
   "outputs": [
    {
     "name": "stdout",
     "output_type": "stream",
     "text": [
      "listeye sayi giriniz: 4\n",
      "listeye sayi giriniz: 2\n",
      "listeye sayi giriniz: 3\n",
      "listeye sayi giriniz: 5\n",
      "listeye sayi giriniz: 1\n"
     ]
    }
   ],
   "source": [
    "for sayi in range(x):\n",
    "    y=int(input('listeye sayi giriniz: '))\n",
    "    listem3.append(y)"
   ]
  },
  {
   "cell_type": "code",
   "execution_count": 36,
   "id": "1aa33ae3",
   "metadata": {},
   "outputs": [
    {
     "name": "stdout",
     "output_type": "stream",
     "text": [
      "[4, 2, 3, 5, 1]\n"
     ]
    }
   ],
   "source": [
    "print(listem3)"
   ]
  },
  {
   "cell_type": "code",
   "execution_count": 37,
   "id": "a89a20e8",
   "metadata": {},
   "outputs": [],
   "source": [
    "koordinatlistesi=[(10.2,10.5),(32.4,25.3),(40.2,55.3)]"
   ]
  },
  {
   "cell_type": "code",
   "execution_count": 39,
   "id": "b442ee1e",
   "metadata": {},
   "outputs": [
    {
     "name": "stdout",
     "output_type": "stream",
     "text": [
      "(10.2, 10.5)\n",
      "(32.4, 25.3)\n",
      "(40.2, 55.3)\n"
     ]
    }
   ],
   "source": [
    "for x in (koordinatlistesi):\n",
    "    print(x)"
   ]
  },
  {
   "cell_type": "code",
   "execution_count": 40,
   "id": "d84aa2af",
   "metadata": {},
   "outputs": [
    {
     "name": "stdout",
     "output_type": "stream",
     "text": [
      "10.2\n",
      "32.4\n",
      "40.2\n"
     ]
    }
   ],
   "source": [
    "for (x,y) in (koordinatlistesi):\n",
    "    print(x)"
   ]
  },
  {
   "cell_type": "code",
   "execution_count": 41,
   "id": "d0d64bdb",
   "metadata": {},
   "outputs": [
    {
     "name": "stdout",
     "output_type": "stream",
     "text": [
      "10.5\n",
      "25.3\n",
      "55.3\n"
     ]
    }
   ],
   "source": [
    "for (x,y) in (koordinatlistesi):\n",
    "    print(y)"
   ]
  },
  {
   "cell_type": "code",
   "execution_count": 46,
   "id": "ff2b932b",
   "metadata": {},
   "outputs": [
    {
     "name": "stdout",
     "output_type": "stream",
     "text": [
      "5\n",
      "10\n",
      "15\n"
     ]
    }
   ],
   "source": [
    "benimlistem=[5,10,15,20,25,30]\n",
    "for i in (benimlistem):\n",
    "    if i==20:\n",
    "        break\n",
    "    print(i)"
   ]
  },
  {
   "cell_type": "code",
   "execution_count": 47,
   "id": "e6ae95ad",
   "metadata": {},
   "outputs": [
    {
     "name": "stdout",
     "output_type": "stream",
     "text": [
      "5\n",
      "10\n",
      "15\n",
      "25\n",
      "30\n"
     ]
    }
   ],
   "source": [
    "for i in (benimlistem):\n",
    "    if i==20:\n",
    "        continue\n",
    "    print(i)"
   ]
  },
  {
   "cell_type": "code",
   "execution_count": 49,
   "id": "46c9bfd8",
   "metadata": {},
   "outputs": [],
   "source": [
    "for i in (benimlistem):\n",
    "    pass"
   ]
  },
  {
   "cell_type": "code",
   "execution_count": 50,
   "id": "072d82d3",
   "metadata": {},
   "outputs": [
    {
     "name": "stdout",
     "output_type": "stream",
     "text": [
      "0\n",
      "1\n",
      "2\n",
      "3\n",
      "4\n",
      "5\n",
      "6\n",
      "7\n",
      "8\n",
      "9\n"
     ]
    }
   ],
   "source": [
    "x=0\n",
    "while x<10:\n",
    "    print(x)\n",
    "    x=x+1"
   ]
  },
  {
   "cell_type": "code",
   "execution_count": 53,
   "id": "650a35e2",
   "metadata": {},
   "outputs": [
    {
     "data": {
      "text/plain": [
       "[5, 10, 15, 20]"
      ]
     },
     "execution_count": 53,
     "metadata": {},
     "output_type": "execute_result"
    }
   ],
   "source": [
    "benimlistem.pop()\n",
    "benimlistem"
   ]
  },
  {
   "cell_type": "code",
   "execution_count": 55,
   "id": "9576ee65",
   "metadata": {},
   "outputs": [
    {
     "data": {
      "text/plain": [
       "[5, 10, 15, 20, 30, 30]"
      ]
     },
     "execution_count": 55,
     "metadata": {},
     "output_type": "execute_result"
    }
   ],
   "source": [
    "benimlistem.append(30)\n",
    "benimlistem"
   ]
  },
  {
   "cell_type": "code",
   "execution_count": 56,
   "id": "0d83bd3a",
   "metadata": {},
   "outputs": [
    {
     "name": "stdout",
     "output_type": "stream",
     "text": [
      "[5, 10, 15, 20, 30]\n",
      "[5, 10, 15, 20]\n",
      "[5, 10, 15]\n",
      "[5, 10]\n"
     ]
    }
   ],
   "source": [
    "while 15 in benimlistem:\n",
    "    benimlistem.pop()\n",
    "    print(benimlistem)"
   ]
  },
  {
   "cell_type": "code",
   "execution_count": 2,
   "id": "ae0a7745",
   "metadata": {},
   "outputs": [
    {
     "name": "stdout",
     "output_type": "stream",
     "text": [
      "0\n",
      "1\n",
      "2\n",
      "3\n"
     ]
    }
   ],
   "source": [
    "numara =0\n",
    "while numara<5:\n",
    "    if numara==4:\n",
    "        break\n",
    "    print(numara)\n",
    "    numara+=1"
   ]
  },
  {
   "cell_type": "code",
   "execution_count": 5,
   "id": "3fa0346e",
   "metadata": {},
   "outputs": [
    {
     "name": "stdout",
     "output_type": "stream",
     "text": [
      "yenidegiskenin guncel degeri: 0\n",
      "yenidegiskenin guncel degeri: 5\n",
      "yenidegiskenin guncel degeri: 10\n",
      "yenidegiskenin guncel degeri: 15\n",
      "yenidegiskenin guncel degeri: 20\n",
      "yenidegiskenin guncel degeri: 25\n",
      "yenidegiskenin guncel degeri: 30\n",
      "yenidegiskenin guncel degeri: 35\n",
      "yenidegiskenin guncel degeri: 40\n",
      "yenidegiskenin guncel degeri: 45\n",
      "yenidegiskenin guncel degeri: 50\n",
      "yenidegiskenin guncel degeri: 55\n",
      "yenidegiskenin guncel degeri: 60\n",
      "yenidegiskenin guncel degeri: 65\n",
      "yenidegiskenin guncel degeri: 70\n"
     ]
    }
   ],
   "source": [
    "yenidegisken=0\n",
    "while yenidegisken < 15:\n",
    "    print(f\"yenidegiskenin guncel degeri: {yenidegisken * 5}\")\n",
    "    yenidegisken+=1\n",
    "    "
   ]
  },
  {
   "cell_type": "code",
   "execution_count": 6,
   "id": "10a32c37",
   "metadata": {},
   "outputs": [
    {
     "data": {
      "text/plain": [
       "[0, 1, 2, 3, 4, 5, 6, 7, 8, 9]"
      ]
     },
     "execution_count": 6,
     "metadata": {},
     "output_type": "execute_result"
    }
   ],
   "source": [
    "list(range(0,10))"
   ]
  },
  {
   "cell_type": "code",
   "execution_count": 7,
   "id": "c1c8388b",
   "metadata": {},
   "outputs": [
    {
     "data": {
      "text/plain": [
       "[3, 8, 13, 18]"
      ]
     },
     "execution_count": 7,
     "metadata": {},
     "output_type": "execute_result"
    }
   ],
   "source": [
    "list(range(3,21,5))"
   ]
  },
  {
   "cell_type": "code",
   "execution_count": 15,
   "id": "8bdb1974",
   "metadata": {},
   "outputs": [
    {
     "name": "stdout",
     "output_type": "stream",
     "text": [
      "güncelnumara: 5 güncel index: 0\n",
      "güncelnumara: 6 güncel index: 1\n",
      "güncelnumara: 7 güncel index: 2\n",
      "güncelnumara: 8 güncel index: 3\n",
      "güncelnumara: 9 güncel index: 4\n",
      "güncelnumara: 10 güncel index: 5\n",
      "güncelnumara: 11 güncel index: 6\n",
      "güncelnumara: 12 güncel index: 7\n",
      "güncelnumara: 13 güncel index: 8\n",
      "güncelnumara: 14 güncel index: 9\n"
     ]
    }
   ],
   "source": [
    "index =0\n",
    "\n",
    "for numara in list(range(5,15)):\n",
    "    print(f\"güncelnumara: {numara} güncel index: {index}\")\n",
    "    index=index+1"
   ]
  },
  {
   "cell_type": "code",
   "execution_count": 16,
   "id": "be666d28",
   "metadata": {},
   "outputs": [
    {
     "name": "stdout",
     "output_type": "stream",
     "text": [
      "(0, 5)\n",
      "(1, 6)\n",
      "(2, 7)\n",
      "(3, 8)\n",
      "(4, 9)\n",
      "(5, 10)\n",
      "(6, 11)\n",
      "(7, 12)\n",
      "(8, 13)\n",
      "(9, 14)\n"
     ]
    }
   ],
   "source": [
    "for numara in enumerate(list(range(5,15))):\n",
    "    print(numara)"
   ]
  },
  {
   "cell_type": "code",
   "execution_count": 18,
   "id": "4f294972",
   "metadata": {},
   "outputs": [
    {
     "name": "stdout",
     "output_type": "stream",
     "text": [
      "0\n",
      "1\n",
      "2\n",
      "3\n",
      "4\n",
      "5\n",
      "6\n",
      "7\n",
      "8\n",
      "9\n"
     ]
    }
   ],
   "source": [
    "for (index,sayi) in enumerate(list(range(5,15))):\n",
    "    print(index)"
   ]
  },
  {
   "cell_type": "code",
   "execution_count": 1,
   "id": "b19e179d",
   "metadata": {},
   "outputs": [
    {
     "data": {
      "text/plain": [
       "[0, 1, 2, 3, 4, 5, 6, 7, 8, 9]"
      ]
     },
     "execution_count": 1,
     "metadata": {},
     "output_type": "execute_result"
    }
   ],
   "source": [
    "newlist=list(range(0,10))\n",
    "newlist"
   ]
  },
  {
   "cell_type": "code",
   "execution_count": 2,
   "id": "d5a57353",
   "metadata": {},
   "outputs": [],
   "source": [
    "import random"
   ]
  },
  {
   "cell_type": "code",
   "execution_count": 5,
   "id": "a7b8228a",
   "metadata": {},
   "outputs": [
    {
     "data": {
      "text/plain": [
       "[0, 4, 1, 7, 9, 6, 2, 8, 5, 3]"
      ]
     },
     "execution_count": 5,
     "metadata": {},
     "output_type": "execute_result"
    }
   ],
   "source": [
    "random.shuffle(newlist)\n",
    "newlist"
   ]
  },
  {
   "cell_type": "markdown",
   "id": "07fb785c",
   "metadata": {},
   "source": [
    "## zip"
   ]
  },
  {
   "cell_type": "code",
   "execution_count": 6,
   "id": "7d473ad0",
   "metadata": {},
   "outputs": [],
   "source": [
    "yiyecekler=[\"elma\",\"armut\",\"kivi\"]\n",
    "kalori=[100,200,300]\n",
    "gunlistesi=[\"ptesi\",\"sali\",\"carsamba\"]\n"
   ]
  },
  {
   "cell_type": "code",
   "execution_count": 7,
   "id": "46525a98",
   "metadata": {},
   "outputs": [
    {
     "data": {
      "text/plain": [
       "[('elma', 100, 'ptesi'), ('armut', 200, 'sali'), ('kivi', 300, 'carsamba')]"
      ]
     },
     "execution_count": 7,
     "metadata": {},
     "output_type": "execute_result"
    }
   ],
   "source": [
    "list(zip(yiyecekler,kalori,gunlistesi))"
   ]
  },
  {
   "cell_type": "code",
   "execution_count": 8,
   "id": "c631deab",
   "metadata": {},
   "outputs": [],
   "source": [
    "listorn=[]\n",
    "isim=\"Huseyinuyanik\"\n",
    "\n",
    "for i in isim:\n",
    "    listorn.append(i)\n",
    "    "
   ]
  },
  {
   "cell_type": "code",
   "execution_count": 9,
   "id": "40aaeb56",
   "metadata": {},
   "outputs": [
    {
     "data": {
      "text/plain": [
       "['H', 'u', 's', 'e', 'y', 'i', 'n', 'u', 'y', 'a', 'n', 'i', 'k']"
      ]
     },
     "execution_count": 9,
     "metadata": {},
     "output_type": "execute_result"
    }
   ],
   "source": [
    "listorn"
   ]
  },
  {
   "cell_type": "code",
   "execution_count": 10,
   "id": "e17336fe",
   "metadata": {},
   "outputs": [],
   "source": [
    "isim2=\"Huseyinuyanikkk\"\n",
    "yeniliste2=[eleman for eleman in isim2]\n"
   ]
  },
  {
   "cell_type": "code",
   "execution_count": 11,
   "id": "86fdb395",
   "metadata": {},
   "outputs": [
    {
     "data": {
      "text/plain": [
       "['H', 'u', 's', 'e', 'y', 'i', 'n', 'u', 'y', 'a', 'n', 'i', 'k', 'k', 'k']"
      ]
     },
     "execution_count": 11,
     "metadata": {},
     "output_type": "execute_result"
    }
   ],
   "source": [
    "yeniliste2"
   ]
  },
  {
   "cell_type": "markdown",
   "id": "d5cc82e2",
   "metadata": {},
   "source": [
    "## fonksiyonlar\n"
   ]
  },
  {
   "cell_type": "code",
   "execution_count": 5,
   "id": "e45683a7",
   "metadata": {},
   "outputs": [],
   "source": [
    "def buyukharf(x):\n",
    "    return x.upper()"
   ]
  },
  {
   "cell_type": "code",
   "execution_count": 6,
   "id": "44bca713",
   "metadata": {},
   "outputs": [
    {
     "data": {
      "text/plain": [
       "'HUSEYIN'"
      ]
     },
     "execution_count": 6,
     "metadata": {},
     "output_type": "execute_result"
    }
   ],
   "source": [
    "buyukharf(\"huseyin\")"
   ]
  },
  {
   "cell_type": "code",
   "execution_count": 9,
   "id": "9f92f9c1",
   "metadata": {},
   "outputs": [],
   "source": [
    "def mrb(isim='huso'):\n",
    "    print(\"merhaba\")\n",
    "    print(isim)"
   ]
  },
  {
   "cell_type": "code",
   "execution_count": 10,
   "id": "154ecc7b",
   "metadata": {},
   "outputs": [
    {
     "name": "stdout",
     "output_type": "stream",
     "text": [
      "merhaba\n",
      "huso\n"
     ]
    }
   ],
   "source": [
    "mrb()"
   ]
  },
  {
   "cell_type": "code",
   "execution_count": 11,
   "id": "2c565916",
   "metadata": {},
   "outputs": [
    {
     "name": "stdout",
     "output_type": "stream",
     "text": [
      "merhaba\n",
      "ali\n"
     ]
    }
   ],
   "source": [
    "mrb(\"ali\")"
   ]
  },
  {
   "cell_type": "code",
   "execution_count": 30,
   "id": "852a832d",
   "metadata": {},
   "outputs": [],
   "source": [
    "def toplama(num1,num2):\n",
    "    print (num1+num2)"
   ]
  },
  {
   "cell_type": "code",
   "execution_count": 31,
   "id": "c80a0fd1",
   "metadata": {},
   "outputs": [
    {
     "name": "stdout",
     "output_type": "stream",
     "text": [
      "6\n"
     ]
    }
   ],
   "source": [
    "toplama(4,2)"
   ]
  },
  {
   "cell_type": "code",
   "execution_count": 36,
   "id": "4f8a3d88",
   "metadata": {},
   "outputs": [
    {
     "name": "stdout",
     "output_type": "stream",
     "text": [
      "6\n"
     ]
    },
    {
     "data": {
      "text/plain": [
       "NoneType"
      ]
     },
     "execution_count": 36,
     "metadata": {},
     "output_type": "execute_result"
    }
   ],
   "source": [
    "yenis=toplama(4,2)\n",
    "type(yenis)"
   ]
  },
  {
   "cell_type": "code",
   "execution_count": 49,
   "id": "9ebfb329",
   "metadata": {},
   "outputs": [],
   "source": [
    "def top(n1,n2):\n",
    "    return n1+n2"
   ]
  },
  {
   "cell_type": "code",
   "execution_count": 50,
   "id": "70c176bc",
   "metadata": {},
   "outputs": [
    {
     "data": {
      "text/plain": [
       "5"
      ]
     },
     "execution_count": 50,
     "metadata": {},
     "output_type": "execute_result"
    }
   ],
   "source": [
    "top(3,2)"
   ]
  },
  {
   "cell_type": "code",
   "execution_count": 51,
   "id": "fb80946c",
   "metadata": {},
   "outputs": [
    {
     "data": {
      "text/plain": [
       "int"
      ]
     },
     "execution_count": 51,
     "metadata": {},
     "output_type": "execute_result"
    }
   ],
   "source": [
    "yenisonuc=top(3,2)\n",
    "yenisonuc\n",
    "type(yenisonuc)"
   ]
  },
  {
   "cell_type": "markdown",
   "id": "3e3ba3d9",
   "metadata": {},
   "source": [
    "## args & kwargs"
   ]
  },
  {
   "cell_type": "code",
   "execution_count": 52,
   "id": "82d6101a",
   "metadata": {},
   "outputs": [],
   "source": [
    "def yenitoplama(*args):\n",
    "    return sum(args)"
   ]
  },
  {
   "cell_type": "code",
   "execution_count": 53,
   "id": "f102ee56",
   "metadata": {},
   "outputs": [
    {
     "data": {
      "text/plain": [
       "8"
      ]
     },
     "execution_count": 53,
     "metadata": {},
     "output_type": "execute_result"
    }
   ],
   "source": [
    "yenitoplama(5,3)"
   ]
  },
  {
   "cell_type": "code",
   "execution_count": 54,
   "id": "f8c9c502",
   "metadata": {},
   "outputs": [],
   "source": [
    "def ornekf(**kwargs):\n",
    "    return(kwargs)"
   ]
  },
  {
   "cell_type": "code",
   "execution_count": 58,
   "id": "fc758c30",
   "metadata": {},
   "outputs": [
    {
     "data": {
      "text/plain": [
       "{'muz': 100, 'elma': 300}"
      ]
     },
     "execution_count": 58,
     "metadata": {},
     "output_type": "execute_result"
    }
   ],
   "source": [
    "ornekf(muz=100,elma=300)"
   ]
  },
  {
   "cell_type": "code",
   "execution_count": 70,
   "id": "42cfe00c",
   "metadata": {},
   "outputs": [
    {
     "data": {
      "text/plain": [
       "[10, 12, 14, 16, 18, 20, 22, 24]"
      ]
     },
     "execution_count": 70,
     "metadata": {},
     "output_type": "execute_result"
    }
   ],
   "source": [
    "listeler=list(range(10,25,2))\n",
    "listeler"
   ]
  },
  {
   "cell_type": "code",
   "execution_count": 80,
   "id": "c3072c71",
   "metadata": {},
   "outputs": [
    {
     "data": {
      "text/plain": [
       "[10, 20, 18, 24, 14, 22, 16, 12]"
      ]
     },
     "execution_count": 80,
     "metadata": {},
     "output_type": "execute_result"
    }
   ],
   "source": [
    "import random\n",
    "random.shuffle(listeler)\n",
    "listeler"
   ]
  },
  {
   "cell_type": "code",
   "execution_count": 86,
   "id": "73a5545f",
   "metadata": {},
   "outputs": [],
   "source": [
    "list21=[]\n",
    "def bolme(x):\n",
    "    a=x/2\n",
    "    list21.append(a)\n",
    "    return list21"
   ]
  },
  {
   "cell_type": "code",
   "execution_count": 87,
   "id": "d1d54cec",
   "metadata": {},
   "outputs": [
    {
     "data": {
      "text/plain": [
       "[4.0]"
      ]
     },
     "execution_count": 87,
     "metadata": {},
     "output_type": "execute_result"
    }
   ],
   "source": [
    "bolme(8)"
   ]
  },
  {
   "cell_type": "code",
   "execution_count": 88,
   "id": "ebf758d6",
   "metadata": {},
   "outputs": [],
   "source": [
    "for y in listeler:\n",
    "    bolme(y)\n",
    "    "
   ]
  },
  {
   "cell_type": "code",
   "execution_count": 89,
   "id": "a72d611c",
   "metadata": {},
   "outputs": [
    {
     "data": {
      "text/plain": [
       "[4.0, 5.0, 10.0, 9.0, 12.0, 7.0, 11.0, 8.0, 6.0]"
      ]
     },
     "execution_count": 89,
     "metadata": {},
     "output_type": "execute_result"
    }
   ],
   "source": [
    "list21"
   ]
  },
  {
   "cell_type": "markdown",
   "id": "61f7a7e7",
   "metadata": {},
   "source": [
    "## map\n"
   ]
  },
  {
   "cell_type": "code",
   "execution_count": 91,
   "id": "c326569e",
   "metadata": {
    "collapsed": true
   },
   "outputs": [
    {
     "data": {
      "text/plain": [
       "[[4.0,\n",
       "  5.0,\n",
       "  10.0,\n",
       "  9.0,\n",
       "  12.0,\n",
       "  7.0,\n",
       "  11.0,\n",
       "  8.0,\n",
       "  6.0,\n",
       "  5.0,\n",
       "  10.0,\n",
       "  9.0,\n",
       "  12.0,\n",
       "  7.0,\n",
       "  11.0,\n",
       "  8.0,\n",
       "  6.0],\n",
       " [4.0,\n",
       "  5.0,\n",
       "  10.0,\n",
       "  9.0,\n",
       "  12.0,\n",
       "  7.0,\n",
       "  11.0,\n",
       "  8.0,\n",
       "  6.0,\n",
       "  5.0,\n",
       "  10.0,\n",
       "  9.0,\n",
       "  12.0,\n",
       "  7.0,\n",
       "  11.0,\n",
       "  8.0,\n",
       "  6.0],\n",
       " [4.0,\n",
       "  5.0,\n",
       "  10.0,\n",
       "  9.0,\n",
       "  12.0,\n",
       "  7.0,\n",
       "  11.0,\n",
       "  8.0,\n",
       "  6.0,\n",
       "  5.0,\n",
       "  10.0,\n",
       "  9.0,\n",
       "  12.0,\n",
       "  7.0,\n",
       "  11.0,\n",
       "  8.0,\n",
       "  6.0],\n",
       " [4.0,\n",
       "  5.0,\n",
       "  10.0,\n",
       "  9.0,\n",
       "  12.0,\n",
       "  7.0,\n",
       "  11.0,\n",
       "  8.0,\n",
       "  6.0,\n",
       "  5.0,\n",
       "  10.0,\n",
       "  9.0,\n",
       "  12.0,\n",
       "  7.0,\n",
       "  11.0,\n",
       "  8.0,\n",
       "  6.0],\n",
       " [4.0,\n",
       "  5.0,\n",
       "  10.0,\n",
       "  9.0,\n",
       "  12.0,\n",
       "  7.0,\n",
       "  11.0,\n",
       "  8.0,\n",
       "  6.0,\n",
       "  5.0,\n",
       "  10.0,\n",
       "  9.0,\n",
       "  12.0,\n",
       "  7.0,\n",
       "  11.0,\n",
       "  8.0,\n",
       "  6.0],\n",
       " [4.0,\n",
       "  5.0,\n",
       "  10.0,\n",
       "  9.0,\n",
       "  12.0,\n",
       "  7.0,\n",
       "  11.0,\n",
       "  8.0,\n",
       "  6.0,\n",
       "  5.0,\n",
       "  10.0,\n",
       "  9.0,\n",
       "  12.0,\n",
       "  7.0,\n",
       "  11.0,\n",
       "  8.0,\n",
       "  6.0],\n",
       " [4.0,\n",
       "  5.0,\n",
       "  10.0,\n",
       "  9.0,\n",
       "  12.0,\n",
       "  7.0,\n",
       "  11.0,\n",
       "  8.0,\n",
       "  6.0,\n",
       "  5.0,\n",
       "  10.0,\n",
       "  9.0,\n",
       "  12.0,\n",
       "  7.0,\n",
       "  11.0,\n",
       "  8.0,\n",
       "  6.0],\n",
       " [4.0,\n",
       "  5.0,\n",
       "  10.0,\n",
       "  9.0,\n",
       "  12.0,\n",
       "  7.0,\n",
       "  11.0,\n",
       "  8.0,\n",
       "  6.0,\n",
       "  5.0,\n",
       "  10.0,\n",
       "  9.0,\n",
       "  12.0,\n",
       "  7.0,\n",
       "  11.0,\n",
       "  8.0,\n",
       "  6.0]]"
      ]
     },
     "execution_count": 91,
     "metadata": {},
     "output_type": "execute_result"
    }
   ],
   "source": [
    "list(map(bolme,listeler))"
   ]
  },
  {
   "cell_type": "code",
   "execution_count": 92,
   "id": "e2bbcbb1",
   "metadata": {
    "collapsed": true
   },
   "outputs": [],
   "source": [
    "def kontrolfonk(string):\n",
    "    return \"a\" in string"
   ]
  },
  {
   "cell_type": "code",
   "execution_count": 95,
   "id": "dec10617",
   "metadata": {},
   "outputs": [
    {
     "data": {
      "text/plain": [
       "True"
      ]
     },
     "execution_count": 95,
     "metadata": {},
     "output_type": "execute_result"
    }
   ],
   "source": [
    "kontrolfonk(\"huseyinuyanik\")"
   ]
  },
  {
   "cell_type": "code",
   "execution_count": 96,
   "id": "059d0486",
   "metadata": {},
   "outputs": [],
   "source": [
    "strnglistesi=[\"ali\",\"veli\",\"osman\",\"haydar\",\"deniz\",\"mehmet\"]"
   ]
  },
  {
   "cell_type": "code",
   "execution_count": 100,
   "id": "1cb8e1a4",
   "metadata": {},
   "outputs": [],
   "source": [
    "sonuclistesi=list(map(kontrolfonk,strnglistesi))"
   ]
  },
  {
   "cell_type": "code",
   "execution_count": 101,
   "id": "148be3f8",
   "metadata": {},
   "outputs": [
    {
     "data": {
      "text/plain": [
       "[True, False, True, True, False, False]"
      ]
     },
     "execution_count": 101,
     "metadata": {},
     "output_type": "execute_result"
    }
   ],
   "source": [
    "sonuclistesi"
   ]
  },
  {
   "cell_type": "code",
   "execution_count": 111,
   "id": "cd25e264",
   "metadata": {},
   "outputs": [
    {
     "data": {
      "text/plain": [
       "3"
      ]
     },
     "execution_count": 111,
     "metadata": {},
     "output_type": "execute_result"
    }
   ],
   "source": [
    "sonuclistesi.count(False)"
   ]
  },
  {
   "cell_type": "markdown",
   "id": "8bb7c88f",
   "metadata": {},
   "source": [
    "## filtreleme (filter)\n"
   ]
  },
  {
   "cell_type": "code",
   "execution_count": 112,
   "id": "7c9ec4c2",
   "metadata": {},
   "outputs": [
    {
     "data": {
      "text/plain": [
       "['ali', 'osman', 'haydar']"
      ]
     },
     "execution_count": 112,
     "metadata": {},
     "output_type": "execute_result"
    }
   ],
   "source": [
    "list(filter(kontrolfonk,strnglistesi))"
   ]
  },
  {
   "cell_type": "code",
   "execution_count": null,
   "id": "8629d9e6",
   "metadata": {},
   "outputs": [],
   "source": []
  }
 ],
 "metadata": {
  "kernelspec": {
   "display_name": "Python 3 (ipykernel)",
   "language": "python",
   "name": "python3"
  },
  "language_info": {
   "codemirror_mode": {
    "name": "ipython",
    "version": 3
   },
   "file_extension": ".py",
   "mimetype": "text/x-python",
   "name": "python",
   "nbconvert_exporter": "python",
   "pygments_lexer": "ipython3",
   "version": "3.10.2"
  }
 },
 "nbformat": 4,
 "nbformat_minor": 5
}
