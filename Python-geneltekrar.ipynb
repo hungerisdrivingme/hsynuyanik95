{
 "cells": [
  {
   "cell_type": "code",
   "execution_count": 16,
   "id": "e349c41a",
   "metadata": {},
   "outputs": [
    {
     "name": "stdout",
     "output_type": "stream",
     "text": [
      "yasinizi giriniz: 34\n"
     ]
    }
   ],
   "source": [
    "(yas)=int(input('yasinizi giriniz: '))"
   ]
  },
  {
   "cell_type": "code",
   "execution_count": 17,
   "id": "ecfa8e5c",
   "metadata": {},
   "outputs": [
    {
     "data": {
      "text/plain": [
       "34"
      ]
     },
     "execution_count": 17,
     "metadata": {},
     "output_type": "execute_result"
    }
   ],
   "source": [
    "(yas)"
   ]
  },
  {
   "cell_type": "code",
   "execution_count": 18,
   "id": "70c07d72",
   "metadata": {},
   "outputs": [
    {
     "data": {
      "text/plain": [
       "int"
      ]
     },
     "execution_count": 18,
     "metadata": {},
     "output_type": "execute_result"
    }
   ],
   "source": [
    "type(yas)"
   ]
  },
  {
   "cell_type": "code",
   "execution_count": 19,
   "id": "3de498ea",
   "metadata": {},
   "outputs": [],
   "source": [
    "a='hüsonunyeri'\n"
   ]
  },
  {
   "cell_type": "code",
   "execution_count": 20,
   "id": "ce6712d6",
   "metadata": {},
   "outputs": [
    {
     "data": {
      "text/plain": [
       "'Hüsonunyeri'"
      ]
     },
     "execution_count": 20,
     "metadata": {},
     "output_type": "execute_result"
    }
   ],
   "source": [
    "a.capitalize()"
   ]
  },
  {
   "cell_type": "code",
   "execution_count": 21,
   "id": "ed38b800",
   "metadata": {},
   "outputs": [
    {
     "data": {
      "text/plain": [
       "['hüs', 'nunyeri']"
      ]
     },
     "execution_count": 21,
     "metadata": {},
     "output_type": "execute_result"
    }
   ],
   "source": [
    "a.split('o')"
   ]
  },
  {
   "cell_type": "code",
   "execution_count": 39,
   "id": "49d89881",
   "metadata": {},
   "outputs": [
    {
     "data": {
      "text/plain": [
       "'huseyinuyanikhuseyinuyanikhuseyinuyanik'"
      ]
     },
     "execution_count": 39,
     "metadata": {},
     "output_type": "execute_result"
    }
   ],
   "source": [
    "b= 'huseyinuyanik'\n",
    "b*3"
   ]
  },
  {
   "cell_type": "code",
   "execution_count": 40,
   "id": "0b23e9c0",
   "metadata": {},
   "outputs": [
    {
     "data": {
      "text/plain": [
       "13"
      ]
     },
     "execution_count": 40,
     "metadata": {},
     "output_type": "execute_result"
    }
   ],
   "source": [
    "len(b)"
   ]
  },
  {
   "cell_type": "code",
   "execution_count": 51,
   "id": "e21c5e86",
   "metadata": {},
   "outputs": [
    {
     "name": "stdout",
     "output_type": "stream",
     "text": [
      "kinayuniyesuh\n",
      "huseyinuyan\n",
      "se\n"
     ]
    },
    {
     "data": {
      "text/plain": [
       "'seyinuyanik'"
      ]
     },
     "execution_count": 51,
     "metadata": {},
     "output_type": "execute_result"
    }
   ],
   "source": [
    "print(b[::-1])\n",
    "print(b[:-2])\n",
    "print(b[2:4])\n",
    "b[2:]"
   ]
  },
  {
   "cell_type": "code",
   "execution_count": 52,
   "id": "53cc1971",
   "metadata": {},
   "outputs": [],
   "source": [
    "isim='Huseyin Uyanik'"
   ]
  },
  {
   "cell_type": "code",
   "execution_count": 56,
   "id": "2957629d",
   "metadata": {},
   "outputs": [
    {
     "data": {
      "text/plain": [
       "['Huseyin', 'Uyanik']"
      ]
     },
     "execution_count": 56,
     "metadata": {},
     "output_type": "execute_result"
    }
   ],
   "source": [
    "a=isim.split()\n",
    "a"
   ]
  },
  {
   "cell_type": "code",
   "execution_count": 57,
   "id": "4a11fa37",
   "metadata": {},
   "outputs": [
    {
     "data": {
      "text/plain": [
       "2"
      ]
     },
     "execution_count": 57,
     "metadata": {},
     "output_type": "execute_result"
    }
   ],
   "source": [
    "len(a)"
   ]
  },
  {
   "cell_type": "code",
   "execution_count": 60,
   "id": "bc9935a9",
   "metadata": {},
   "outputs": [
    {
     "data": {
      "text/plain": [
       "'husekinukanik'"
      ]
     },
     "execution_count": 60,
     "metadata": {},
     "output_type": "execute_result"
    }
   ],
   "source": [
    "b.replace('y','k')"
   ]
  },
  {
   "cell_type": "code",
   "execution_count": 70,
   "id": "1734b3a0",
   "metadata": {},
   "outputs": [
    {
     "data": {
      "text/plain": [
       "[10, 20, 30]"
      ]
     },
     "execution_count": 70,
     "metadata": {},
     "output_type": "execute_result"
    }
   ],
   "source": [
    "listem=[10,20,30]\n",
    "listem"
   ]
  },
  {
   "cell_type": "code",
   "execution_count": 71,
   "id": "3a826df2",
   "metadata": {},
   "outputs": [
    {
     "data": {
      "text/plain": [
       "[10, 20, 30, 23]"
      ]
     },
     "execution_count": 71,
     "metadata": {},
     "output_type": "execute_result"
    }
   ],
   "source": [
    "listem.append(23)\n",
    "listem"
   ]
  },
  {
   "cell_type": "code",
   "execution_count": 72,
   "id": "03c7115c",
   "metadata": {},
   "outputs": [
    {
     "data": {
      "text/plain": [
       "[10, 20, 30]"
      ]
     },
     "execution_count": 72,
     "metadata": {},
     "output_type": "execute_result"
    }
   ],
   "source": [
    "listem.pop()\n",
    "listem"
   ]
  },
  {
   "cell_type": "code",
   "execution_count": 73,
   "id": "6d7e00ae",
   "metadata": {},
   "outputs": [
    {
     "data": {
      "text/plain": [
       "[10, 30]"
      ]
     },
     "execution_count": 73,
     "metadata": {},
     "output_type": "execute_result"
    }
   ],
   "source": [
    "listem.remove(20)\n",
    "listem"
   ]
  },
  {
   "cell_type": "code",
   "execution_count": 74,
   "id": "1648c571",
   "metadata": {},
   "outputs": [
    {
     "data": {
      "text/plain": [
       "[30, 10]"
      ]
     },
     "execution_count": 74,
     "metadata": {},
     "output_type": "execute_result"
    }
   ],
   "source": [
    "listem.reverse()\n",
    "listem"
   ]
  },
  {
   "cell_type": "code",
   "execution_count": 79,
   "id": "0100a343",
   "metadata": {},
   "outputs": [
    {
     "data": {
      "text/plain": [
       "1"
      ]
     },
     "execution_count": 79,
     "metadata": {},
     "output_type": "execute_result"
    }
   ],
   "source": [
    "listem.count(10)  #10dan kac tane var\n"
   ]
  },
  {
   "cell_type": "code",
   "execution_count": 80,
   "id": "3a8b16f2",
   "metadata": {},
   "outputs": [],
   "source": [
    "nestedlist=[1,2,3,2.5,\"ali\",2,['osman',21,3.2]]"
   ]
  },
  {
   "cell_type": "code",
   "execution_count": 87,
   "id": "24a05675",
   "metadata": {},
   "outputs": [
    {
     "data": {
      "text/plain": [
       "'osman'"
      ]
     },
     "execution_count": 87,
     "metadata": {},
     "output_type": "execute_result"
    }
   ],
   "source": [
    "nestedlist[6][0]"
   ]
  },
  {
   "cell_type": "code",
   "execution_count": 90,
   "id": "21067d3c",
   "metadata": {},
   "outputs": [
    {
     "data": {
      "text/plain": [
       "{'anahtar': 'değer', 'anahtar2': 'değer2'}"
      ]
     },
     "execution_count": 90,
     "metadata": {},
     "output_type": "execute_result"
    }
   ],
   "source": [
    "benimsozluk={\"anahtar\":\"değer\",\n",
    "            \"anahtar2\":\"değer2\"}\n",
    "benimsozluk"
   ]
  },
  {
   "cell_type": "code",
   "execution_count": 93,
   "id": "47fba1ef",
   "metadata": {},
   "outputs": [
    {
     "data": {
      "text/plain": [
       "dict_values(['değer', 'değer2'])"
      ]
     },
     "execution_count": 93,
     "metadata": {},
     "output_type": "execute_result"
    }
   ],
   "source": [
    "benimsozluk.keys()\n",
    "benimsozluk.values()"
   ]
  },
  {
   "cell_type": "code",
   "execution_count": 94,
   "id": "eff5bab1",
   "metadata": {},
   "outputs": [
    {
     "data": {
      "text/plain": [
       "[1, 2, 3, 1, 2, 1, 5, 6]"
      ]
     },
     "execution_count": 94,
     "metadata": {},
     "output_type": "execute_result"
    }
   ],
   "source": [
    "#set 1 elemanı sadece 1 kere barındırır\n",
    "liste1=[1,2,3,1,2,1,5,6]\n",
    "liste1"
   ]
  },
  {
   "cell_type": "code",
   "execution_count": 95,
   "id": "81da020d",
   "metadata": {},
   "outputs": [
    {
     "data": {
      "text/plain": [
       "{1, 2, 3, 5, 6}"
      ]
     },
     "execution_count": 95,
     "metadata": {},
     "output_type": "execute_result"
    }
   ],
   "source": [
    "set(liste1)"
   ]
  },
  {
   "cell_type": "code",
   "execution_count": 96,
   "id": "3bb85f9c",
   "metadata": {},
   "outputs": [
    {
     "data": {
      "text/plain": [
       "[1]"
      ]
     },
     "execution_count": 96,
     "metadata": {},
     "output_type": "execute_result"
    }
   ],
   "source": [
    "boslist=[]\n",
    "boslist.append(1)\n",
    "boslist"
   ]
  },
  {
   "cell_type": "code",
   "execution_count": 97,
   "id": "a892c722",
   "metadata": {},
   "outputs": [
    {
     "data": {
      "text/plain": [
       "(1, 2, 'a', 4, 2.4)"
      ]
     },
     "execution_count": 97,
     "metadata": {},
     "output_type": "execute_result"
    }
   ],
   "source": [
    "#Tuple'ın listeden farkı içerisindedki degişkenleri degiştiremiyoruz\n",
    "benimTuple=(1,2,'a',4,2.4)\n",
    "benimTuple"
   ]
  },
  {
   "cell_type": "code",
   "execution_count": 104,
   "id": "38a6d455",
   "metadata": {},
   "outputs": [
    {
     "data": {
      "text/plain": [
       "4"
      ]
     },
     "execution_count": 104,
     "metadata": {},
     "output_type": "execute_result"
    }
   ],
   "source": [
    "#benimTuple[2]='b'  #degistiremiyoruz hata veriyor\n",
    "benimTuple.count(2)\n",
    "benimTuple.index(2.4)"
   ]
  },
  {
   "cell_type": "code",
   "execution_count": 105,
   "id": "54ac169e",
   "metadata": {},
   "outputs": [
    {
     "data": {
      "text/plain": [
       "False"
      ]
     },
     "execution_count": 105,
     "metadata": {},
     "output_type": "execute_result"
    }
   ],
   "source": [
    "#boolean veritipleri\n",
    "10<3"
   ]
  },
  {
   "cell_type": "code",
   "execution_count": 106,
   "id": "a2707b03",
   "metadata": {},
   "outputs": [
    {
     "data": {
      "text/plain": [
       "True"
      ]
     },
     "execution_count": 106,
     "metadata": {},
     "output_type": "execute_result"
    }
   ],
   "source": [
    "10>5"
   ]
  },
  {
   "cell_type": "code",
   "execution_count": 112,
   "id": "69726dcd",
   "metadata": {},
   "outputs": [
    {
     "data": {
      "text/plain": [
       "2462.0"
      ]
     },
     "execution_count": 112,
     "metadata": {},
     "output_type": "execute_result"
    }
   ],
   "source": [
    "liste2=[2310,1234,5431,1235,2100]\n",
    "len(liste2)\n",
    "sum(liste2)\n",
    "ortalama=sum(liste2)/len(liste2)\n",
    "ortalama"
   ]
  },
  {
   "cell_type": "code",
   "execution_count": 113,
   "id": "d158390a",
   "metadata": {},
   "outputs": [
    {
     "data": {
      "text/plain": [
       "False"
      ]
     },
     "execution_count": 113,
     "metadata": {},
     "output_type": "execute_result"
    }
   ],
   "source": [
    "liste2[2]<ortalama"
   ]
  },
  {
   "cell_type": "code",
   "execution_count": 115,
   "id": "b53f03b3",
   "metadata": {},
   "outputs": [
    {
     "name": "stdout",
     "output_type": "stream",
     "text": [
      "Huseyin\n",
      "uyanik\n"
     ]
    }
   ],
   "source": [
    "if 3>2:\n",
    "    print(\"Huseyin\")\n",
    "print('uyanik')"
   ]
  },
  {
   "cell_type": "code",
   "execution_count": 131,
   "id": "dbf72250",
   "metadata": {},
   "outputs": [],
   "source": [
    "karaktercanli=True"
   ]
  },
  {
   "cell_type": "code",
   "execution_count": 132,
   "id": "ab2cc363",
   "metadata": {},
   "outputs": [
    {
     "name": "stdout",
     "output_type": "stream",
     "text": [
      "karakter yasiyor\n"
     ]
    }
   ],
   "source": [
    "\n",
    "if karaktercanli:\n",
    "    print(\"karakter yasiyor\")\n",
    "else:\n",
    "    print(\"karakter ölü\")"
   ]
  },
  {
   "cell_type": "code",
   "execution_count": 137,
   "id": "3a4a4584",
   "metadata": {},
   "outputs": [
    {
     "name": "stdout",
     "output_type": "stream",
     "text": [
      "var\n"
     ]
    }
   ],
   "source": [
    "liste3=[12,23,54,12,54,21,6]\n",
    "\n",
    "if 6 in liste3:\n",
    "    print('var')\n",
    "else:\n",
    "    print(\"yok\")\n",
    "    "
   ]
  },
  {
   "cell_type": "code",
   "execution_count": null,
   "id": "26a7ae6b",
   "metadata": {},
   "outputs": [],
   "source": []
  },
  {
   "cell_type": "code",
   "execution_count": null,
   "id": "befd5398",
   "metadata": {},
   "outputs": [],
   "source": []
  }
 ],
 "metadata": {
  "kernelspec": {
   "display_name": "Python 3 (ipykernel)",
   "language": "python",
   "name": "python3"
  },
  "language_info": {
   "codemirror_mode": {
    "name": "ipython",
    "version": 3
   },
   "file_extension": ".py",
   "mimetype": "text/x-python",
   "name": "python",
   "nbconvert_exporter": "python",
   "pygments_lexer": "ipython3",
   "version": "3.10.2"
  }
 },
 "nbformat": 4,
 "nbformat_minor": 5
}
