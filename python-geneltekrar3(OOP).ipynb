{
 "cells": [
  {
   "cell_type": "code",
   "execution_count": 20,
   "id": "e80d94a8",
   "metadata": {},
   "outputs": [],
   "source": [
    "class Superkahraman():\n",
    "    def __init__(self,ad,cinsiyet,meslek):\n",
    "        self.ad=ad\n",
    "        self.cinsiyet=cinsiyet\n",
    "        self.meslek=meslek\n",
    "    "
   ]
  },
  {
   "cell_type": "code",
   "execution_count": 21,
   "id": "a7b94286",
   "metadata": {},
   "outputs": [],
   "source": [
    "spiderman=Superkahraman(\"peter_parker\",\"Erkek\",\"Gazeteci\")\n",
    "superman=Superkahraman(\"klarkent\",\"Erkek\",\"Gazeteci\")\n",
    "catwoman=Superkahraman(\"nan\",\"kadın\",\"nan\")"
   ]
  },
  {
   "cell_type": "code",
   "execution_count": 22,
   "id": "cc3f9b3d",
   "metadata": {},
   "outputs": [
    {
     "data": {
      "text/plain": [
       "'Klark Kent'"
      ]
     },
     "execution_count": 22,
     "metadata": {},
     "output_type": "execute_result"
    }
   ],
   "source": [
    "superman.ad=\"Klark Kent\"\n",
    "superman.ad"
   ]
  },
  {
   "cell_type": "code",
   "execution_count": 23,
   "id": "1461ecc3",
   "metadata": {},
   "outputs": [
    {
     "data": {
      "text/plain": [
       "'Erkek'"
      ]
     },
     "execution_count": 23,
     "metadata": {},
     "output_type": "execute_result"
    }
   ],
   "source": [
    "spiderman.cinsiyet"
   ]
  },
  {
   "cell_type": "code",
   "execution_count": 31,
   "id": "7ebf3028",
   "metadata": {},
   "outputs": [],
   "source": [
    "class Superkahraman():\n",
    "    ozelguc=\"Gorunmezlik\"\n",
    "    \n",
    "    def __init__(self,ad,cinsiyet,meslek):\n",
    "        self.ad=ad\n",
    "        self.cinsiyet=cinsiyet\n",
    "        self.meslek=meslek\n",
    "    \n",
    "    def ornmethod(self):\n",
    "        print(f\"Ben {self.ad} ve benim mesleğim {self.meslek}\")\n",
    "    "
   ]
  },
  {
   "cell_type": "code",
   "execution_count": 32,
   "id": "7777addb",
   "metadata": {},
   "outputs": [],
   "source": [
    "spiderman=Superkahraman(\"peter_parker\",\"Erkek\",\"Gazeteci\")\n",
    "superman=Superkahraman(\"klarkent\",\"Erkek\",\"Gazeteci\")\n",
    "catwoman=Superkahraman(\"nan\",\"kadın\",\"nan\")"
   ]
  },
  {
   "cell_type": "code",
   "execution_count": 33,
   "id": "ed967cce",
   "metadata": {},
   "outputs": [
    {
     "data": {
      "text/plain": [
       "'Ucmmak'"
      ]
     },
     "execution_count": 33,
     "metadata": {},
     "output_type": "execute_result"
    }
   ],
   "source": [
    "superman.ozelguc=\"Ucmmak\"\n",
    "superman.ozelguc"
   ]
  },
  {
   "cell_type": "code",
   "execution_count": 35,
   "id": "765d5dbc",
   "metadata": {},
   "outputs": [
    {
     "name": "stdout",
     "output_type": "stream",
     "text": [
      "Ben klarkent ve benim mesleğim Gazeteci\n"
     ]
    }
   ],
   "source": [
    "superman.ornmethod()"
   ]
  },
  {
   "cell_type": "code",
   "execution_count": 54,
   "id": "d7983a98",
   "metadata": {},
   "outputs": [],
   "source": [
    "class Kopek():\n",
    "    def __init__(self,cins,yas,cinsiyet):\n",
    "        self.yas=yas\n",
    "        self.cins=cins\n",
    "        self.cinsiyet=cinsiyet\n",
    "    def insanyasi(self):\n",
    "        return self.yas*7\n",
    "   "
   ]
  },
  {
   "cell_type": "code",
   "execution_count": 55,
   "id": "9bdd77e8",
   "metadata": {},
   "outputs": [],
   "source": [
    "kopek1=Kopek(\"golden\",4,\"E\")\n",
    "kopek2=Kopek(\"pitbull\",1,\"D\")\n",
    "kopek3=Kopek(\"terrier\",6,\"D\")"
   ]
  },
  {
   "cell_type": "code",
   "execution_count": 56,
   "id": "ca05db66",
   "metadata": {},
   "outputs": [
    {
     "data": {
      "text/plain": [
       "28"
      ]
     },
     "execution_count": 56,
     "metadata": {},
     "output_type": "execute_result"
    }
   ],
   "source": [
    "kopek1.insanyasi()"
   ]
  },
  {
   "cell_type": "markdown",
   "id": "e820371c",
   "metadata": {},
   "source": [
    "# inheritance (bir sınıfın özelliklerini miras almak)"
   ]
  },
  {
   "cell_type": "code",
   "execution_count": 58,
   "id": "d5713af4",
   "metadata": {},
   "outputs": [],
   "source": [
    "class Hayvan():\n",
    "    def __init__(self):\n",
    "        print(\"hayvansinifi init cagirildi\")\n",
    "        \n",
    "    def metod1(self):\n",
    "        print(\"hayvansinifi metod1 cagirildi\")\n",
    "        \n",
    "    def metod2(self):\n",
    "        print(\"hayvansinifi metod2 cagirildi\")"
   ]
  },
  {
   "cell_type": "code",
   "execution_count": 62,
   "id": "f7d1ed55",
   "metadata": {},
   "outputs": [
    {
     "name": "stdout",
     "output_type": "stream",
     "text": [
      "hayvansinifi init cagirildi\n"
     ]
    }
   ],
   "source": [
    "benimhayvanim=Hayvan()"
   ]
  },
  {
   "cell_type": "code",
   "execution_count": 64,
   "id": "87db32da",
   "metadata": {},
   "outputs": [
    {
     "name": "stdout",
     "output_type": "stream",
     "text": [
      "hayvansinifi metod1 cagirildi\n"
     ]
    }
   ],
   "source": [
    "benimhayvanim.metod1()"
   ]
  },
  {
   "cell_type": "code",
   "execution_count": 66,
   "id": "55524864",
   "metadata": {},
   "outputs": [
    {
     "name": "stdout",
     "output_type": "stream",
     "text": [
      "hayvansinifi metod2 cagirildi\n"
     ]
    }
   ],
   "source": [
    "benimhayvanim.metod2()"
   ]
  },
  {
   "cell_type": "code",
   "execution_count": 77,
   "id": "eb376a49",
   "metadata": {},
   "outputs": [],
   "source": [
    "class Kedi(Hayvan):\n",
    "    def __init__(self):\n",
    "            Hayvan.__init__(self)\n",
    "            print(\"kedi sinifi init cagirildi.\")\n",
    "    def miyavla(self):\n",
    "        print(\"miyav\")\n",
    "        #override\n",
    "    def metod1(self):\n",
    "        print(\"kedi sinifina özel metod1 olusturuldu\")"
   ]
  },
  {
   "cell_type": "code",
   "execution_count": 78,
   "id": "e04f9ebc",
   "metadata": {},
   "outputs": [
    {
     "name": "stdout",
     "output_type": "stream",
     "text": [
      "hayvansinifi init cagirildi\n",
      "kedi sinifi init cagirildi.\n"
     ]
    }
   ],
   "source": [
    "benimkedi=Kedi()"
   ]
  },
  {
   "cell_type": "code",
   "execution_count": 79,
   "id": "d2a7cc34",
   "metadata": {},
   "outputs": [
    {
     "name": "stdout",
     "output_type": "stream",
     "text": [
      "kedi sinifina özel metod1 olusturuldu\n"
     ]
    }
   ],
   "source": [
    "benimkedi.metod1()"
   ]
  },
  {
   "cell_type": "code",
   "execution_count": 80,
   "id": "7f2f9d03",
   "metadata": {},
   "outputs": [
    {
     "name": "stdout",
     "output_type": "stream",
     "text": [
      "miyav\n"
     ]
    }
   ],
   "source": [
    "benimkedi.miyavla()"
   ]
  },
  {
   "cell_type": "code",
   "execution_count": 81,
   "id": "be9943f7",
   "metadata": {},
   "outputs": [
    {
     "name": "stdout",
     "output_type": "stream",
     "text": [
      "hayvansinifi metod1 cagirildi\n"
     ]
    }
   ],
   "source": [
    "benimhayvanim.metod1()  #miyavla metodu çıkmadı."
   ]
  },
  {
   "cell_type": "markdown",
   "id": "287e5d8e",
   "metadata": {},
   "source": [
    "# polymorphism"
   ]
  },
  {
   "cell_type": "code",
   "execution_count": 87,
   "id": "ec5603c9",
   "metadata": {},
   "outputs": [],
   "source": [
    "class elma():\n",
    "    def __init__(self,isim):\n",
    "        self.isim=isim\n",
    "    def bilgiver(self):\n",
    "        return self.isim + '100 kaloridir'"
   ]
  },
  {
   "cell_type": "code",
   "execution_count": 88,
   "id": "bdb82b48",
   "metadata": {},
   "outputs": [],
   "source": [
    "class muz():\n",
    "    def __init__(self,isim):\n",
    "        self.isim=isim\n",
    "    def bilgiver(self):\n",
    "        return self.isim + \"150 kaloridir\""
   ]
  },
  {
   "cell_type": "code",
   "execution_count": 90,
   "id": "6e84c6da",
   "metadata": {},
   "outputs": [
    {
     "data": {
      "text/plain": [
       "'elma100 kaloridir'"
      ]
     },
     "execution_count": 90,
     "metadata": {},
     "output_type": "execute_result"
    }
   ],
   "source": [
    "m1=elma(\"elma\")\n",
    "m1.bilgiver()"
   ]
  },
  {
   "cell_type": "code",
   "execution_count": 92,
   "id": "b317b933",
   "metadata": {},
   "outputs": [
    {
     "data": {
      "text/plain": [
       "'muz150 kaloridir'"
      ]
     },
     "execution_count": 92,
     "metadata": {},
     "output_type": "execute_result"
    }
   ],
   "source": [
    "m2=muz(\"muz\")\n",
    "m2.bilgiver()"
   ]
  },
  {
   "cell_type": "code",
   "execution_count": 93,
   "id": "55628bf2",
   "metadata": {},
   "outputs": [
    {
     "name": "stdout",
     "output_type": "stream",
     "text": [
      "elma100 kaloridir\n",
      "muz150 kaloridir\n"
     ]
    }
   ],
   "source": [
    "meyvelistesi=[m1,m2]\n",
    "for meyve in meyvelistesi:\n",
    "    print(meyve.bilgiver())"
   ]
  },
  {
   "cell_type": "markdown",
   "id": "7da063ba",
   "metadata": {},
   "source": [
    "## ozel metodlar"
   ]
  },
  {
   "cell_type": "code",
   "execution_count": 22,
   "id": "32723052",
   "metadata": {},
   "outputs": [],
   "source": [
    "class meyve():\n",
    "    def __init__(self,isim,kalori):\n",
    "        self.isim=isim\n",
    "        self.kalori=kalori\n",
    "    def __str__(self):\n",
    "        return f\"{self.isim} şu kadar kaloriye sahiptir {self.kalori}\"\n",
    "    \n",
    "    def __len__(self):\n",
    "        return self.kalori"
   ]
  },
  {
   "cell_type": "code",
   "execution_count": 23,
   "id": "6c8f0b29",
   "metadata": {},
   "outputs": [],
   "source": [
    "muz=meyve(\"muz\",150)\n"
   ]
  },
  {
   "cell_type": "code",
   "execution_count": 24,
   "id": "db353564",
   "metadata": {},
   "outputs": [
    {
     "data": {
      "text/plain": [
       "150"
      ]
     },
     "execution_count": 24,
     "metadata": {},
     "output_type": "execute_result"
    }
   ],
   "source": [
    "muz.kalori"
   ]
  },
  {
   "cell_type": "code",
   "execution_count": 25,
   "id": "460a0fe6",
   "metadata": {},
   "outputs": [
    {
     "name": "stdout",
     "output_type": "stream",
     "text": [
      "muz şu kadar kaloriye sahiptir 150\n"
     ]
    }
   ],
   "source": [
    "print(muz)"
   ]
  },
  {
   "cell_type": "code",
   "execution_count": 26,
   "id": "41c2f718",
   "metadata": {},
   "outputs": [
    {
     "data": {
      "text/plain": [
       "[1, 2, 3, 'a', 4.5]"
      ]
     },
     "execution_count": 26,
     "metadata": {},
     "output_type": "execute_result"
    }
   ],
   "source": [
    "benimlistem=[1,2,3,\"a\",4.5]\n",
    "benimlistem"
   ]
  },
  {
   "cell_type": "code",
   "execution_count": 27,
   "id": "b1ab54f3",
   "metadata": {},
   "outputs": [
    {
     "data": {
      "text/plain": [
       "150"
      ]
     },
     "execution_count": 27,
     "metadata": {},
     "output_type": "execute_result"
    }
   ],
   "source": [
    "len(muz)"
   ]
  },
  {
   "cell_type": "markdown",
   "id": "fb7643c5",
   "metadata": {},
   "source": [
    "## try & except & else & finally"
   ]
  },
  {
   "cell_type": "code",
   "execution_count": 4,
   "id": "b1971f8c",
   "metadata": {
    "scrolled": true
   },
   "outputs": [
    {
     "name": "stdout",
     "output_type": "stream",
     "text": [
      "Numara giriniz: sad\n",
      "baska bir sayi deneyiniz.\n",
      "Numara giriniz: dsa\n",
      "baska bir sayi deneyiniz.\n",
      "Numara giriniz: weq\n",
      "baska bir sayi deneyiniz.\n",
      "Numara giriniz: 10\n",
      "Tesekkürler\n"
     ]
    }
   ],
   "source": [
    "while True:\n",
    "    try:\n",
    "        benimInt=int(input(\"Numara giriniz: \"))\n",
    "    except:\n",
    "        print(\"baska bir sayi deneyiniz.\")\n",
    "        continue\n",
    "    else:\n",
    "        print(\"Tesekkürler\")\n",
    "        break"
   ]
  },
  {
   "cell_type": "code",
   "execution_count": null,
   "id": "ae272664",
   "metadata": {},
   "outputs": [],
   "source": []
  },
  {
   "cell_type": "code",
   "execution_count": null,
   "id": "db7020ce",
   "metadata": {},
   "outputs": [],
   "source": []
  }
 ],
 "metadata": {
  "kernelspec": {
   "display_name": "Python 3 (ipykernel)",
   "language": "python",
   "name": "python3"
  },
  "language_info": {
   "codemirror_mode": {
    "name": "ipython",
    "version": 3
   },
   "file_extension": ".py",
   "mimetype": "text/x-python",
   "name": "python",
   "nbconvert_exporter": "python",
   "pygments_lexer": "ipython3",
   "version": "3.10.2"
  }
 },
 "nbformat": 4,
 "nbformat_minor": 5
}
