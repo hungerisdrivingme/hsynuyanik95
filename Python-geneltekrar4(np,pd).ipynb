{
 "cells": [
  {
   "cell_type": "code",
   "execution_count": 11,
   "id": "b7049f65",
   "metadata": {},
   "outputs": [],
   "source": [
    "import numpy as np"
   ]
  },
  {
   "cell_type": "code",
   "execution_count": 12,
   "id": "357bae14",
   "metadata": {},
   "outputs": [],
   "source": [
    "a=np.array([[1,2,3,4,5],[1,213,123,1,1]])"
   ]
  },
  {
   "cell_type": "code",
   "execution_count": 13,
   "id": "3f60939e",
   "metadata": {},
   "outputs": [
    {
     "data": {
      "text/plain": [
       "array([[  1,   2,   3,   4,   5],\n",
       "       [  1, 213, 123,   1,   1]])"
      ]
     },
     "execution_count": 13,
     "metadata": {},
     "output_type": "execute_result"
    }
   ],
   "source": [
    "a"
   ]
  },
  {
   "cell_type": "code",
   "execution_count": 14,
   "id": "f1e9d569",
   "metadata": {},
   "outputs": [
    {
     "data": {
      "text/plain": [
       "10"
      ]
     },
     "execution_count": 14,
     "metadata": {},
     "output_type": "execute_result"
    }
   ],
   "source": [
    "a.size"
   ]
  },
  {
   "cell_type": "code",
   "execution_count": 15,
   "id": "83061f8a",
   "metadata": {},
   "outputs": [
    {
     "data": {
      "text/plain": [
       "(2, 5)"
      ]
     },
     "execution_count": 15,
     "metadata": {},
     "output_type": "execute_result"
    }
   ],
   "source": [
    "a.shape"
   ]
  },
  {
   "cell_type": "code",
   "execution_count": 16,
   "id": "fcbc2574",
   "metadata": {},
   "outputs": [],
   "source": [
    "b=np.arange(1,10,2)"
   ]
  },
  {
   "cell_type": "code",
   "execution_count": 17,
   "id": "19eb3a39",
   "metadata": {},
   "outputs": [
    {
     "data": {
      "text/plain": [
       "array([1, 3, 5, 7, 9])"
      ]
     },
     "execution_count": 17,
     "metadata": {},
     "output_type": "execute_result"
    }
   ],
   "source": [
    "b"
   ]
  },
  {
   "cell_type": "code",
   "execution_count": 18,
   "id": "564294ab",
   "metadata": {},
   "outputs": [
    {
     "data": {
      "text/plain": [
       "array([0., 0., 0., 0., 0., 0.])"
      ]
     },
     "execution_count": 18,
     "metadata": {},
     "output_type": "execute_result"
    }
   ],
   "source": [
    "np.zeros(6)"
   ]
  },
  {
   "cell_type": "code",
   "execution_count": 19,
   "id": "2ff4ac2a",
   "metadata": {},
   "outputs": [
    {
     "data": {
      "text/plain": [
       "array([1., 1., 1., 1.])"
      ]
     },
     "execution_count": 19,
     "metadata": {},
     "output_type": "execute_result"
    }
   ],
   "source": [
    "np.ones(4)"
   ]
  },
  {
   "cell_type": "code",
   "execution_count": 20,
   "id": "d11af49a",
   "metadata": {},
   "outputs": [
    {
     "data": {
      "text/plain": [
       "array([[1., 1.],\n",
       "       [1., 1.]])"
      ]
     },
     "execution_count": 20,
     "metadata": {},
     "output_type": "execute_result"
    }
   ],
   "source": [
    "np.ones((2,2))"
   ]
  },
  {
   "cell_type": "code",
   "execution_count": 21,
   "id": "b4cb5bbb",
   "metadata": {},
   "outputs": [
    {
     "data": {
      "text/plain": [
       "array([ 0.  ,  4.75,  9.5 , 14.25, 19.  ])"
      ]
     },
     "execution_count": 21,
     "metadata": {},
     "output_type": "execute_result"
    }
   ],
   "source": [
    "np.linspace(0,19,5)"
   ]
  },
  {
   "cell_type": "code",
   "execution_count": 22,
   "id": "03c2ee4f",
   "metadata": {},
   "outputs": [
    {
     "data": {
      "text/plain": [
       "array([[1., 0., 0., 0., 0., 0., 0., 0., 0., 0.],\n",
       "       [0., 1., 0., 0., 0., 0., 0., 0., 0., 0.],\n",
       "       [0., 0., 1., 0., 0., 0., 0., 0., 0., 0.],\n",
       "       [0., 0., 0., 1., 0., 0., 0., 0., 0., 0.],\n",
       "       [0., 0., 0., 0., 1., 0., 0., 0., 0., 0.],\n",
       "       [0., 0., 0., 0., 0., 1., 0., 0., 0., 0.],\n",
       "       [0., 0., 0., 0., 0., 0., 1., 0., 0., 0.],\n",
       "       [0., 0., 0., 0., 0., 0., 0., 1., 0., 0.],\n",
       "       [0., 0., 0., 0., 0., 0., 0., 0., 1., 0.],\n",
       "       [0., 0., 0., 0., 0., 0., 0., 0., 0., 1.]])"
      ]
     },
     "execution_count": 22,
     "metadata": {},
     "output_type": "execute_result"
    }
   ],
   "source": [
    "np.eye((10))"
   ]
  },
  {
   "cell_type": "code",
   "execution_count": 23,
   "id": "ae86e30b",
   "metadata": {},
   "outputs": [
    {
     "data": {
      "text/plain": [
       "array([-2.63587729,  0.91345391,  1.90417705,  0.77789792, -0.74922439,\n",
       "       -0.82151446, -0.57446531, -0.67144331])"
      ]
     },
     "execution_count": 23,
     "metadata": {},
     "output_type": "execute_result"
    }
   ],
   "source": [
    "np.random.randn(8)"
   ]
  },
  {
   "cell_type": "code",
   "execution_count": 24,
   "id": "f262aeec",
   "metadata": {},
   "outputs": [
    {
     "data": {
      "text/plain": [
       "array([[-0.09712076,  0.15170343, -0.65932612],\n",
       "       [ 0.47378767, -0.09991094, -1.07233241],\n",
       "       [-1.14327542, -0.87093835,  1.93228985]])"
      ]
     },
     "execution_count": 24,
     "metadata": {},
     "output_type": "execute_result"
    }
   ],
   "source": [
    "np.random.randn(3,3)"
   ]
  },
  {
   "cell_type": "code",
   "execution_count": 25,
   "id": "755f6be8",
   "metadata": {},
   "outputs": [
    {
     "data": {
      "text/plain": [
       "2"
      ]
     },
     "execution_count": 25,
     "metadata": {},
     "output_type": "execute_result"
    }
   ],
   "source": [
    "np.random.randint(1,10)"
   ]
  },
  {
   "cell_type": "code",
   "execution_count": 26,
   "id": "222d8373",
   "metadata": {},
   "outputs": [
    {
     "data": {
      "text/plain": [
       "array([ 4,  5, 19])"
      ]
     },
     "execution_count": 26,
     "metadata": {},
     "output_type": "execute_result"
    }
   ],
   "source": [
    "np.random.randint(1,20,3)"
   ]
  },
  {
   "cell_type": "code",
   "execution_count": 27,
   "id": "f95d3f6c",
   "metadata": {},
   "outputs": [
    {
     "data": {
      "text/plain": [
       "30"
      ]
     },
     "execution_count": 27,
     "metadata": {},
     "output_type": "execute_result"
    }
   ],
   "source": [
    "dizi=np.random.randint(1,100,30)\n",
    "dizi.size"
   ]
  },
  {
   "cell_type": "code",
   "execution_count": 28,
   "id": "b7e275e6",
   "metadata": {},
   "outputs": [
    {
     "data": {
      "text/plain": [
       "array([[62,  3, 94, 55, 30, 18, 16, 76, 16, 94],\n",
       "       [65, 34, 13, 44, 94, 36,  9, 66, 16, 71],\n",
       "       [ 9, 23,  2,  7, 78, 54, 38, 27, 23, 11]])"
      ]
     },
     "execution_count": 28,
     "metadata": {},
     "output_type": "execute_result"
    }
   ],
   "source": [
    "dizi.reshape(3,10)"
   ]
  },
  {
   "cell_type": "code",
   "execution_count": 29,
   "id": "d49d53e4",
   "metadata": {},
   "outputs": [
    {
     "data": {
      "text/plain": [
       "array([[62,  3, 94, 55, 30, 18],\n",
       "       [16, 76, 16, 94, 65, 34],\n",
       "       [13, 44, 94, 36,  9, 66],\n",
       "       [16, 71,  9, 23,  2,  7],\n",
       "       [78, 54, 38, 27, 23, 11]])"
      ]
     },
     "execution_count": 29,
     "metadata": {},
     "output_type": "execute_result"
    }
   ],
   "source": [
    "dizi.resize(5,6)\n",
    "dizi"
   ]
  },
  {
   "cell_type": "code",
   "execution_count": 30,
   "id": "6ca7b0b3",
   "metadata": {},
   "outputs": [
    {
     "data": {
      "text/plain": [
       "94"
      ]
     },
     "execution_count": 30,
     "metadata": {},
     "output_type": "execute_result"
    }
   ],
   "source": [
    "dizi.max()"
   ]
  },
  {
   "cell_type": "code",
   "execution_count": 31,
   "id": "a9666b82",
   "metadata": {},
   "outputs": [
    {
     "data": {
      "text/plain": [
       "2"
      ]
     },
     "execution_count": 31,
     "metadata": {},
     "output_type": "execute_result"
    }
   ],
   "source": [
    "dizi.argmax()"
   ]
  },
  {
   "cell_type": "code",
   "execution_count": 32,
   "id": "d6f206eb",
   "metadata": {},
   "outputs": [
    {
     "data": {
      "text/plain": [
       "22"
      ]
     },
     "execution_count": 32,
     "metadata": {},
     "output_type": "execute_result"
    }
   ],
   "source": [
    "dizi.argmin()"
   ]
  },
  {
   "cell_type": "code",
   "execution_count": 33,
   "id": "44c1edc2",
   "metadata": {},
   "outputs": [
    {
     "data": {
      "text/plain": [
       "array([[62,  3, 94, 55, 30, 18],\n",
       "       [16, 76, 16, 94, 65, 34],\n",
       "       [13, 44, 94, 36,  9, 66],\n",
       "       [16, 71,  9, 23,  2,  7],\n",
       "       [78, 54, 38, 27, 23, 11]])"
      ]
     },
     "execution_count": 33,
     "metadata": {},
     "output_type": "execute_result"
    }
   ],
   "source": [
    "dizi"
   ]
  },
  {
   "cell_type": "code",
   "execution_count": 34,
   "id": "f40d4d15",
   "metadata": {},
   "outputs": [],
   "source": [
    "dizi.sort()"
   ]
  },
  {
   "cell_type": "code",
   "execution_count": 35,
   "id": "c91f7867",
   "metadata": {},
   "outputs": [
    {
     "data": {
      "text/plain": [
       "array([[ 3, 18, 30, 55, 62, 94],\n",
       "       [16, 16, 34, 65, 76, 94],\n",
       "       [ 9, 13, 36, 44, 66, 94],\n",
       "       [ 2,  7,  9, 16, 23, 71],\n",
       "       [11, 23, 27, 38, 54, 78]])"
      ]
     },
     "execution_count": 35,
     "metadata": {},
     "output_type": "execute_result"
    }
   ],
   "source": [
    "dizi"
   ]
  },
  {
   "cell_type": "code",
   "execution_count": 36,
   "id": "72c8ddd5",
   "metadata": {},
   "outputs": [],
   "source": [
    "benimdizim=np.arange(0,10)"
   ]
  },
  {
   "cell_type": "code",
   "execution_count": 37,
   "id": "b7b0c489",
   "metadata": {},
   "outputs": [],
   "source": [
    "benimdizim[3:8]=-5"
   ]
  },
  {
   "cell_type": "code",
   "execution_count": 38,
   "id": "939242b8",
   "metadata": {},
   "outputs": [
    {
     "data": {
      "text/plain": [
       "array([ 0,  1,  2, -5, -5, -5, -5, -5,  8,  9])"
      ]
     },
     "execution_count": 38,
     "metadata": {},
     "output_type": "execute_result"
    }
   ],
   "source": [
    "benimdizim"
   ]
  },
  {
   "cell_type": "code",
   "execution_count": 39,
   "id": "2a05e317",
   "metadata": {},
   "outputs": [],
   "source": [
    "ornekdizi=np.arange(0,20)"
   ]
  },
  {
   "cell_type": "code",
   "execution_count": 40,
   "id": "cc8c6071",
   "metadata": {},
   "outputs": [
    {
     "data": {
      "text/plain": [
       "array([ 0,  1,  2,  3,  4,  5,  6,  7,  8,  9, 10, 11, 12, 13, 14, 15, 16,\n",
       "       17, 18, 19])"
      ]
     },
     "execution_count": 40,
     "metadata": {},
     "output_type": "execute_result"
    }
   ],
   "source": [
    "ornekdizi"
   ]
  },
  {
   "cell_type": "code",
   "execution_count": 41,
   "id": "36b629e5",
   "metadata": {},
   "outputs": [],
   "source": [
    "ornekdizikopya=ornekdizi.copy()"
   ]
  },
  {
   "cell_type": "code",
   "execution_count": 42,
   "id": "5b779b48",
   "metadata": {},
   "outputs": [
    {
     "data": {
      "text/plain": [
       "array([ 0,  1,  2,  3,  4,  5,  6,  7,  8,  9, 10, 11, 12, 13, 14, 15, 16,\n",
       "       17, 18, 19])"
      ]
     },
     "execution_count": 42,
     "metadata": {},
     "output_type": "execute_result"
    }
   ],
   "source": [
    "ornekdizikopya"
   ]
  },
  {
   "cell_type": "code",
   "execution_count": 43,
   "id": "612c9fc0",
   "metadata": {},
   "outputs": [
    {
     "data": {
      "text/plain": [
       "array([  0,   1, 700, 700,   4,   5,   6,   7,   8,   9,  10,  11,  12,\n",
       "        13,  14,  15,  16,  17,  18,  19])"
      ]
     },
     "execution_count": 43,
     "metadata": {},
     "output_type": "execute_result"
    }
   ],
   "source": [
    "ornekdizikopya[2:4]=700\n",
    "ornekdizikopya"
   ]
  },
  {
   "cell_type": "code",
   "execution_count": 44,
   "id": "396906a7",
   "metadata": {},
   "outputs": [
    {
     "data": {
      "text/plain": [
       "array([ 0,  1,  2,  3,  4,  5,  6,  7,  8,  9, 10, 11, 12, 13, 14, 15, 16,\n",
       "       17, 18, 19])"
      ]
     },
     "execution_count": 44,
     "metadata": {},
     "output_type": "execute_result"
    }
   ],
   "source": [
    "ornekdizi"
   ]
  },
  {
   "cell_type": "code",
   "execution_count": 45,
   "id": "0de94567",
   "metadata": {},
   "outputs": [],
   "source": [
    "yeniliste=[[1,2,3,4],[5,6,7,8],[9,10,11,12],[13,14,15,16],[17,18,19,20]]"
   ]
  },
  {
   "cell_type": "code",
   "execution_count": 46,
   "id": "7e45e4df",
   "metadata": {},
   "outputs": [
    {
     "data": {
      "text/plain": [
       "list"
      ]
     },
     "execution_count": 46,
     "metadata": {},
     "output_type": "execute_result"
    }
   ],
   "source": [
    "type(yeniliste)"
   ]
  },
  {
   "cell_type": "code",
   "execution_count": 47,
   "id": "c63e934e",
   "metadata": {},
   "outputs": [],
   "source": [
    "matris=np.array(yeniliste)\n"
   ]
  },
  {
   "cell_type": "code",
   "execution_count": 48,
   "id": "ea51e38c",
   "metadata": {},
   "outputs": [
    {
     "data": {
      "text/plain": [
       "numpy.ndarray"
      ]
     },
     "execution_count": 48,
     "metadata": {},
     "output_type": "execute_result"
    }
   ],
   "source": [
    "type(matris)"
   ]
  },
  {
   "cell_type": "code",
   "execution_count": 49,
   "id": "6fe91d06",
   "metadata": {},
   "outputs": [
    {
     "data": {
      "text/plain": [
       "array([[ 1,  2,  3,  4],\n",
       "       [ 5,  6,  7,  8],\n",
       "       [ 9, 10, 11, 12],\n",
       "       [13, 14, 15, 16],\n",
       "       [17, 18, 19, 20]])"
      ]
     },
     "execution_count": 49,
     "metadata": {},
     "output_type": "execute_result"
    }
   ],
   "source": [
    "matris"
   ]
  },
  {
   "cell_type": "code",
   "execution_count": 50,
   "id": "31012487",
   "metadata": {},
   "outputs": [
    {
     "data": {
      "text/plain": [
       "2"
      ]
     },
     "execution_count": 50,
     "metadata": {},
     "output_type": "execute_result"
    }
   ],
   "source": [
    "matris[0,1]"
   ]
  },
  {
   "cell_type": "code",
   "execution_count": 51,
   "id": "51980f12",
   "metadata": {},
   "outputs": [
    {
     "data": {
      "text/plain": [
       "array([[1, 2, 3, 4],\n",
       "       [5, 6, 7, 8]])"
      ]
     },
     "execution_count": 51,
     "metadata": {},
     "output_type": "execute_result"
    }
   ],
   "source": [
    "matris[[0,1]]"
   ]
  },
  {
   "cell_type": "code",
   "execution_count": 52,
   "id": "7b97c11b",
   "metadata": {},
   "outputs": [],
   "source": [
    "yenibirdizi=np.random.randint(0,20,20)"
   ]
  },
  {
   "cell_type": "code",
   "execution_count": 53,
   "id": "665a784e",
   "metadata": {},
   "outputs": [
    {
     "data": {
      "text/plain": [
       "array([17, 17,  1, 19,  2, 19,  5,  6, 13, 16, 17, 15,  7,  7,  4, 17,  6,\n",
       "       17, 16, 15])"
      ]
     },
     "execution_count": 53,
     "metadata": {},
     "output_type": "execute_result"
    }
   ],
   "source": [
    "yenibirdizi"
   ]
  },
  {
   "cell_type": "code",
   "execution_count": 54,
   "id": "a90af846",
   "metadata": {},
   "outputs": [
    {
     "data": {
      "text/plain": [
       "array([ True,  True, False,  True, False,  True, False, False,  True,\n",
       "        True,  True,  True, False, False, False,  True, False,  True,\n",
       "        True,  True])"
      ]
     },
     "execution_count": 54,
     "metadata": {},
     "output_type": "execute_result"
    }
   ],
   "source": [
    "yenibirdizi>10"
   ]
  },
  {
   "cell_type": "code",
   "execution_count": 55,
   "id": "77cd9038",
   "metadata": {},
   "outputs": [],
   "source": [
    "sonucdizisi=yenibirdizi>15"
   ]
  },
  {
   "cell_type": "code",
   "execution_count": 56,
   "id": "37c4e89d",
   "metadata": {},
   "outputs": [
    {
     "data": {
      "text/plain": [
       "array([ True,  True, False,  True, False,  True, False, False, False,\n",
       "        True,  True, False, False, False, False,  True, False,  True,\n",
       "        True, False])"
      ]
     },
     "execution_count": 56,
     "metadata": {},
     "output_type": "execute_result"
    }
   ],
   "source": [
    "sonucdizisi"
   ]
  },
  {
   "cell_type": "code",
   "execution_count": 57,
   "id": "5ff838a8",
   "metadata": {},
   "outputs": [
    {
     "data": {
      "text/plain": [
       "array([17, 17, 19, 19, 16, 17, 17, 17, 16])"
      ]
     },
     "execution_count": 57,
     "metadata": {},
     "output_type": "execute_result"
    }
   ],
   "source": [
    "yenibirdizi[sonucdizisi]"
   ]
  },
  {
   "cell_type": "code",
   "execution_count": 58,
   "id": "7fd594ee",
   "metadata": {},
   "outputs": [
    {
     "data": {
      "text/plain": [
       "array([17, 17, 19, 19, 13, 16, 17, 15, 17, 17, 16, 15])"
      ]
     },
     "execution_count": 58,
     "metadata": {},
     "output_type": "execute_result"
    }
   ],
   "source": [
    "yenibirdizi[yenibirdizi>10]"
   ]
  },
  {
   "cell_type": "markdown",
   "id": "e000a13e",
   "metadata": {},
   "source": [
    "# pandas"
   ]
  },
  {
   "cell_type": "code",
   "execution_count": 59,
   "id": "2b4baffd",
   "metadata": {},
   "outputs": [],
   "source": [
    "import pandas as pd"
   ]
  },
  {
   "cell_type": "code",
   "execution_count": 60,
   "id": "d0080fa4",
   "metadata": {},
   "outputs": [],
   "source": [
    "benimsozlugum={\"Ali\":50,\"Veli\":40,\"Osman\":20}"
   ]
  },
  {
   "cell_type": "code",
   "execution_count": 61,
   "id": "2328fd91",
   "metadata": {},
   "outputs": [
    {
     "data": {
      "text/plain": [
       "Ali      50\n",
       "Veli     40\n",
       "Osman    20\n",
       "dtype: int64"
      ]
     },
     "execution_count": 61,
     "metadata": {},
     "output_type": "execute_result"
    }
   ],
   "source": [
    "pd.Series(benimsozlugum)"
   ]
  },
  {
   "cell_type": "code",
   "execution_count": 62,
   "id": "4c271633",
   "metadata": {},
   "outputs": [
    {
     "data": {
      "text/plain": [
       "3    Hüseyin\n",
       "5     Uyanik\n",
       "6      Ahmet\n",
       "dtype: object"
      ]
     },
     "execution_count": 62,
     "metadata": {},
     "output_type": "execute_result"
    }
   ],
   "source": [
    "pd.Series([\"Hüseyin\",\"Uyanik\",\"Ahmet\"],[3,5,6])"
   ]
  },
  {
   "cell_type": "code",
   "execution_count": 63,
   "id": "477a14a4",
   "metadata": {},
   "outputs": [
    {
     "data": {
      "text/plain": [
       "50"
      ]
     },
     "execution_count": 63,
     "metadata": {},
     "output_type": "execute_result"
    }
   ],
   "source": [
    "benimsozlugum[\"Ali\"]"
   ]
  },
  {
   "cell_type": "code",
   "execution_count": 69,
   "id": "3e35a320",
   "metadata": {},
   "outputs": [
    {
     "data": {
      "text/plain": [
       "array([[ 0.26373552,  1.4154558 , -0.70492082],\n",
       "       [-1.25201335, -0.68744609, -0.52121929],\n",
       "       [ 0.02911656, -0.8919372 , -0.4156713 ],\n",
       "       [ 0.7373829 ,  0.17055486, -0.55859224]])"
      ]
     },
     "execution_count": 69,
     "metadata": {},
     "output_type": "execute_result"
    }
   ],
   "source": [
    "q=np.random.randn(4,3)\n",
    "q"
   ]
  },
  {
   "cell_type": "code",
   "execution_count": 70,
   "id": "8ee05f4c",
   "metadata": {},
   "outputs": [],
   "source": [
    "df=pd.DataFrame(q)"
   ]
  },
  {
   "cell_type": "code",
   "execution_count": 71,
   "id": "4db31597",
   "metadata": {},
   "outputs": [
    {
     "data": {
      "text/html": [
       "<div>\n",
       "<style scoped>\n",
       "    .dataframe tbody tr th:only-of-type {\n",
       "        vertical-align: middle;\n",
       "    }\n",
       "\n",
       "    .dataframe tbody tr th {\n",
       "        vertical-align: top;\n",
       "    }\n",
       "\n",
       "    .dataframe thead th {\n",
       "        text-align: right;\n",
       "    }\n",
       "</style>\n",
       "<table border=\"1\" class=\"dataframe\">\n",
       "  <thead>\n",
       "    <tr style=\"text-align: right;\">\n",
       "      <th></th>\n",
       "      <th>0</th>\n",
       "      <th>1</th>\n",
       "      <th>2</th>\n",
       "    </tr>\n",
       "  </thead>\n",
       "  <tbody>\n",
       "    <tr>\n",
       "      <th>0</th>\n",
       "      <td>0.263736</td>\n",
       "      <td>1.415456</td>\n",
       "      <td>-0.704921</td>\n",
       "    </tr>\n",
       "    <tr>\n",
       "      <th>1</th>\n",
       "      <td>-1.252013</td>\n",
       "      <td>-0.687446</td>\n",
       "      <td>-0.521219</td>\n",
       "    </tr>\n",
       "    <tr>\n",
       "      <th>2</th>\n",
       "      <td>0.029117</td>\n",
       "      <td>-0.891937</td>\n",
       "      <td>-0.415671</td>\n",
       "    </tr>\n",
       "    <tr>\n",
       "      <th>3</th>\n",
       "      <td>0.737383</td>\n",
       "      <td>0.170555</td>\n",
       "      <td>-0.558592</td>\n",
       "    </tr>\n",
       "  </tbody>\n",
       "</table>\n",
       "</div>"
      ],
      "text/plain": [
       "          0         1         2\n",
       "0  0.263736  1.415456 -0.704921\n",
       "1 -1.252013 -0.687446 -0.521219\n",
       "2  0.029117 -0.891937 -0.415671\n",
       "3  0.737383  0.170555 -0.558592"
      ]
     },
     "execution_count": 71,
     "metadata": {},
     "output_type": "execute_result"
    }
   ],
   "source": [
    "df"
   ]
  },
  {
   "cell_type": "code",
   "execution_count": 72,
   "id": "57c9fc69",
   "metadata": {},
   "outputs": [
    {
     "data": {
      "text/plain": [
       "0    0.263736\n",
       "1   -1.252013\n",
       "2    0.029117\n",
       "3    0.737383\n",
       "Name: 0, dtype: float64"
      ]
     },
     "execution_count": 72,
     "metadata": {},
     "output_type": "execute_result"
    }
   ],
   "source": [
    "df[0]"
   ]
  },
  {
   "cell_type": "code",
   "execution_count": 106,
   "id": "2a3bbe96",
   "metadata": {},
   "outputs": [],
   "source": [
    "yenidataframe=pd.DataFrame(q,index=[\"Ali\",\"Veli\",\"osman\",\"macit\"],columns=[1,2,3])"
   ]
  },
  {
   "cell_type": "code",
   "execution_count": 107,
   "id": "b499a4b7",
   "metadata": {},
   "outputs": [
    {
     "data": {
      "text/html": [
       "<div>\n",
       "<style scoped>\n",
       "    .dataframe tbody tr th:only-of-type {\n",
       "        vertical-align: middle;\n",
       "    }\n",
       "\n",
       "    .dataframe tbody tr th {\n",
       "        vertical-align: top;\n",
       "    }\n",
       "\n",
       "    .dataframe thead th {\n",
       "        text-align: right;\n",
       "    }\n",
       "</style>\n",
       "<table border=\"1\" class=\"dataframe\">\n",
       "  <thead>\n",
       "    <tr style=\"text-align: right;\">\n",
       "      <th></th>\n",
       "      <th>1</th>\n",
       "      <th>2</th>\n",
       "      <th>3</th>\n",
       "    </tr>\n",
       "  </thead>\n",
       "  <tbody>\n",
       "    <tr>\n",
       "      <th>Ali</th>\n",
       "      <td>0.263736</td>\n",
       "      <td>1.415456</td>\n",
       "      <td>-0.704921</td>\n",
       "    </tr>\n",
       "    <tr>\n",
       "      <th>Veli</th>\n",
       "      <td>-1.252013</td>\n",
       "      <td>-0.687446</td>\n",
       "      <td>-0.521219</td>\n",
       "    </tr>\n",
       "    <tr>\n",
       "      <th>osman</th>\n",
       "      <td>0.029117</td>\n",
       "      <td>-0.891937</td>\n",
       "      <td>-0.415671</td>\n",
       "    </tr>\n",
       "    <tr>\n",
       "      <th>macit</th>\n",
       "      <td>0.737383</td>\n",
       "      <td>0.170555</td>\n",
       "      <td>-0.558592</td>\n",
       "    </tr>\n",
       "  </tbody>\n",
       "</table>\n",
       "</div>"
      ],
      "text/plain": [
       "              1         2         3\n",
       "Ali    0.263736  1.415456 -0.704921\n",
       "Veli  -1.252013 -0.687446 -0.521219\n",
       "osman  0.029117 -0.891937 -0.415671\n",
       "macit  0.737383  0.170555 -0.558592"
      ]
     },
     "execution_count": 107,
     "metadata": {},
     "output_type": "execute_result"
    }
   ],
   "source": [
    "yenidataframe"
   ]
  },
  {
   "cell_type": "code",
   "execution_count": 108,
   "id": "ebac9a6c",
   "metadata": {},
   "outputs": [
    {
     "data": {
      "text/html": [
       "<div>\n",
       "<style scoped>\n",
       "    .dataframe tbody tr th:only-of-type {\n",
       "        vertical-align: middle;\n",
       "    }\n",
       "\n",
       "    .dataframe tbody tr th {\n",
       "        vertical-align: top;\n",
       "    }\n",
       "\n",
       "    .dataframe thead th {\n",
       "        text-align: right;\n",
       "    }\n",
       "</style>\n",
       "<table border=\"1\" class=\"dataframe\">\n",
       "  <thead>\n",
       "    <tr style=\"text-align: right;\">\n",
       "      <th></th>\n",
       "      <th>2</th>\n",
       "      <th>3</th>\n",
       "    </tr>\n",
       "  </thead>\n",
       "  <tbody>\n",
       "    <tr>\n",
       "      <th>Ali</th>\n",
       "      <td>1.415456</td>\n",
       "      <td>-0.704921</td>\n",
       "    </tr>\n",
       "    <tr>\n",
       "      <th>Veli</th>\n",
       "      <td>-0.687446</td>\n",
       "      <td>-0.521219</td>\n",
       "    </tr>\n",
       "    <tr>\n",
       "      <th>osman</th>\n",
       "      <td>-0.891937</td>\n",
       "      <td>-0.415671</td>\n",
       "    </tr>\n",
       "    <tr>\n",
       "      <th>macit</th>\n",
       "      <td>0.170555</td>\n",
       "      <td>-0.558592</td>\n",
       "    </tr>\n",
       "  </tbody>\n",
       "</table>\n",
       "</div>"
      ],
      "text/plain": [
       "              2         3\n",
       "Ali    1.415456 -0.704921\n",
       "Veli  -0.687446 -0.521219\n",
       "osman -0.891937 -0.415671\n",
       "macit  0.170555 -0.558592"
      ]
     },
     "execution_count": 108,
     "metadata": {},
     "output_type": "execute_result"
    }
   ],
   "source": [
    "yenidataframe[[2,3]]"
   ]
  },
  {
   "cell_type": "code",
   "execution_count": 109,
   "id": "c43cf6c1",
   "metadata": {},
   "outputs": [
    {
     "data": {
      "text/plain": [
       "1   -1.252013\n",
       "2   -0.687446\n",
       "3   -0.521219\n",
       "Name: Veli, dtype: float64"
      ]
     },
     "execution_count": 109,
     "metadata": {},
     "output_type": "execute_result"
    }
   ],
   "source": [
    "yenidataframe.loc[\"Veli\"]"
   ]
  },
  {
   "cell_type": "code",
   "execution_count": 110,
   "id": "0c01959d",
   "metadata": {},
   "outputs": [
    {
     "data": {
      "text/plain": [
       "1    0.737383\n",
       "2    0.170555\n",
       "3   -0.558592\n",
       "Name: macit, dtype: float64"
      ]
     },
     "execution_count": 110,
     "metadata": {},
     "output_type": "execute_result"
    }
   ],
   "source": [
    "yenidataframe.iloc[3]"
   ]
  },
  {
   "cell_type": "code",
   "execution_count": 111,
   "id": "3299ba56",
   "metadata": {},
   "outputs": [
    {
     "data": {
      "text/html": [
       "<div>\n",
       "<style scoped>\n",
       "    .dataframe tbody tr th:only-of-type {\n",
       "        vertical-align: middle;\n",
       "    }\n",
       "\n",
       "    .dataframe tbody tr th {\n",
       "        vertical-align: top;\n",
       "    }\n",
       "\n",
       "    .dataframe thead th {\n",
       "        text-align: right;\n",
       "    }\n",
       "</style>\n",
       "<table border=\"1\" class=\"dataframe\">\n",
       "  <thead>\n",
       "    <tr style=\"text-align: right;\">\n",
       "      <th></th>\n",
       "      <th>1</th>\n",
       "      <th>3</th>\n",
       "    </tr>\n",
       "  </thead>\n",
       "  <tbody>\n",
       "    <tr>\n",
       "      <th>Ali</th>\n",
       "      <td>0.263736</td>\n",
       "      <td>-0.704921</td>\n",
       "    </tr>\n",
       "    <tr>\n",
       "      <th>Veli</th>\n",
       "      <td>-1.252013</td>\n",
       "      <td>-0.521219</td>\n",
       "    </tr>\n",
       "    <tr>\n",
       "      <th>osman</th>\n",
       "      <td>0.029117</td>\n",
       "      <td>-0.415671</td>\n",
       "    </tr>\n",
       "    <tr>\n",
       "      <th>macit</th>\n",
       "      <td>0.737383</td>\n",
       "      <td>-0.558592</td>\n",
       "    </tr>\n",
       "  </tbody>\n",
       "</table>\n",
       "</div>"
      ],
      "text/plain": [
       "              1         3\n",
       "Ali    0.263736 -0.704921\n",
       "Veli  -1.252013 -0.521219\n",
       "osman  0.029117 -0.415671\n",
       "macit  0.737383 -0.558592"
      ]
     },
     "execution_count": 111,
     "metadata": {},
     "output_type": "execute_result"
    }
   ],
   "source": [
    "yenidataframe.drop([2],axis=1)"
   ]
  },
  {
   "cell_type": "code",
   "execution_count": 112,
   "id": "3a5170bf",
   "metadata": {},
   "outputs": [
    {
     "data": {
      "text/html": [
       "<div>\n",
       "<style scoped>\n",
       "    .dataframe tbody tr th:only-of-type {\n",
       "        vertical-align: middle;\n",
       "    }\n",
       "\n",
       "    .dataframe tbody tr th {\n",
       "        vertical-align: top;\n",
       "    }\n",
       "\n",
       "    .dataframe thead th {\n",
       "        text-align: right;\n",
       "    }\n",
       "</style>\n",
       "<table border=\"1\" class=\"dataframe\">\n",
       "  <thead>\n",
       "    <tr style=\"text-align: right;\">\n",
       "      <th></th>\n",
       "      <th>1</th>\n",
       "      <th>2</th>\n",
       "      <th>3</th>\n",
       "    </tr>\n",
       "  </thead>\n",
       "  <tbody>\n",
       "    <tr>\n",
       "      <th>Ali</th>\n",
       "      <td>0.263736</td>\n",
       "      <td>1.415456</td>\n",
       "      <td>-0.704921</td>\n",
       "    </tr>\n",
       "    <tr>\n",
       "      <th>Veli</th>\n",
       "      <td>-1.252013</td>\n",
       "      <td>-0.687446</td>\n",
       "      <td>-0.521219</td>\n",
       "    </tr>\n",
       "    <tr>\n",
       "      <th>osman</th>\n",
       "      <td>0.029117</td>\n",
       "      <td>-0.891937</td>\n",
       "      <td>-0.415671</td>\n",
       "    </tr>\n",
       "    <tr>\n",
       "      <th>macit</th>\n",
       "      <td>0.737383</td>\n",
       "      <td>0.170555</td>\n",
       "      <td>-0.558592</td>\n",
       "    </tr>\n",
       "  </tbody>\n",
       "</table>\n",
       "</div>"
      ],
      "text/plain": [
       "              1         2         3\n",
       "Ali    0.263736  1.415456 -0.704921\n",
       "Veli  -1.252013 -0.687446 -0.521219\n",
       "osman  0.029117 -0.891937 -0.415671\n",
       "macit  0.737383  0.170555 -0.558592"
      ]
     },
     "execution_count": 112,
     "metadata": {},
     "output_type": "execute_result"
    }
   ],
   "source": [
    "yenidataframe   # tamamen silmek icin inplace=True yapılır"
   ]
  },
  {
   "cell_type": "code",
   "execution_count": 113,
   "id": "52d061a9",
   "metadata": {},
   "outputs": [],
   "source": [
    "yenidataframe.drop([2],axis=1, inplace=True)"
   ]
  },
  {
   "cell_type": "code",
   "execution_count": 114,
   "id": "1d05dec8",
   "metadata": {},
   "outputs": [
    {
     "data": {
      "text/html": [
       "<div>\n",
       "<style scoped>\n",
       "    .dataframe tbody tr th:only-of-type {\n",
       "        vertical-align: middle;\n",
       "    }\n",
       "\n",
       "    .dataframe tbody tr th {\n",
       "        vertical-align: top;\n",
       "    }\n",
       "\n",
       "    .dataframe thead th {\n",
       "        text-align: right;\n",
       "    }\n",
       "</style>\n",
       "<table border=\"1\" class=\"dataframe\">\n",
       "  <thead>\n",
       "    <tr style=\"text-align: right;\">\n",
       "      <th></th>\n",
       "      <th>1</th>\n",
       "      <th>3</th>\n",
       "    </tr>\n",
       "  </thead>\n",
       "  <tbody>\n",
       "    <tr>\n",
       "      <th>Ali</th>\n",
       "      <td>0.263736</td>\n",
       "      <td>-0.704921</td>\n",
       "    </tr>\n",
       "    <tr>\n",
       "      <th>Veli</th>\n",
       "      <td>-1.252013</td>\n",
       "      <td>-0.521219</td>\n",
       "    </tr>\n",
       "    <tr>\n",
       "      <th>osman</th>\n",
       "      <td>0.029117</td>\n",
       "      <td>-0.415671</td>\n",
       "    </tr>\n",
       "    <tr>\n",
       "      <th>macit</th>\n",
       "      <td>0.737383</td>\n",
       "      <td>-0.558592</td>\n",
       "    </tr>\n",
       "  </tbody>\n",
       "</table>\n",
       "</div>"
      ],
      "text/plain": [
       "              1         3\n",
       "Ali    0.263736 -0.704921\n",
       "Veli  -1.252013 -0.521219\n",
       "osman  0.029117 -0.415671\n",
       "macit  0.737383 -0.558592"
      ]
     },
     "execution_count": 114,
     "metadata": {},
     "output_type": "execute_result"
    }
   ],
   "source": [
    "yenidataframe"
   ]
  },
  {
   "cell_type": "code",
   "execution_count": 115,
   "id": "bedb4b09",
   "metadata": {},
   "outputs": [
    {
     "data": {
      "text/plain": [
       "0.2637355226148305"
      ]
     },
     "execution_count": 115,
     "metadata": {},
     "output_type": "execute_result"
    }
   ],
   "source": [
    "yenidataframe.loc[\"Ali\"][1]"
   ]
  },
  {
   "cell_type": "code",
   "execution_count": 131,
   "id": "c63fb4d8",
   "metadata": {},
   "outputs": [
    {
     "data": {
      "text/html": [
       "<div>\n",
       "<style scoped>\n",
       "    .dataframe tbody tr th:only-of-type {\n",
       "        vertical-align: middle;\n",
       "    }\n",
       "\n",
       "    .dataframe tbody tr th {\n",
       "        vertical-align: top;\n",
       "    }\n",
       "\n",
       "    .dataframe thead th {\n",
       "        text-align: right;\n",
       "    }\n",
       "</style>\n",
       "<table border=\"1\" class=\"dataframe\">\n",
       "  <thead>\n",
       "    <tr style=\"text-align: right;\">\n",
       "      <th></th>\n",
       "      <th>1</th>\n",
       "      <th>3</th>\n",
       "    </tr>\n",
       "    <tr>\n",
       "      <th>Yeni_index</th>\n",
       "      <th></th>\n",
       "      <th></th>\n",
       "    </tr>\n",
       "  </thead>\n",
       "  <tbody>\n",
       "    <tr>\n",
       "      <th>hus</th>\n",
       "      <td>0.263736</td>\n",
       "      <td>-0.704921</td>\n",
       "    </tr>\n",
       "    <tr>\n",
       "      <th>semra</th>\n",
       "      <td>-1.252013</td>\n",
       "      <td>-0.521219</td>\n",
       "    </tr>\n",
       "    <tr>\n",
       "      <th>dilek</th>\n",
       "      <td>0.029117</td>\n",
       "      <td>-0.415671</td>\n",
       "    </tr>\n",
       "    <tr>\n",
       "      <th>sare</th>\n",
       "      <td>0.737383</td>\n",
       "      <td>-0.558592</td>\n",
       "    </tr>\n",
       "  </tbody>\n",
       "</table>\n",
       "</div>"
      ],
      "text/plain": [
       "                   1         3\n",
       "Yeni_index                    \n",
       "hus         0.263736 -0.704921\n",
       "semra      -1.252013 -0.521219\n",
       "dilek       0.029117 -0.415671\n",
       "sare        0.737383 -0.558592"
      ]
     },
     "execution_count": 131,
     "metadata": {},
     "output_type": "execute_result"
    }
   ],
   "source": [
    "yenidataframe"
   ]
  },
  {
   "cell_type": "code",
   "execution_count": 132,
   "id": "32f8d46b",
   "metadata": {},
   "outputs": [],
   "source": [
    "yeniindexlistesi=[\"hus\",\"semra\",\"dilek\",\"sare\"]"
   ]
  },
  {
   "cell_type": "code",
   "execution_count": 133,
   "id": "3011cf3a",
   "metadata": {},
   "outputs": [],
   "source": [
    "yenidataframe[\"Yeni_index\"]=yeniindexlistesi"
   ]
  },
  {
   "cell_type": "code",
   "execution_count": 134,
   "id": "c4065223",
   "metadata": {},
   "outputs": [
    {
     "data": {
      "text/html": [
       "<div>\n",
       "<style scoped>\n",
       "    .dataframe tbody tr th:only-of-type {\n",
       "        vertical-align: middle;\n",
       "    }\n",
       "\n",
       "    .dataframe tbody tr th {\n",
       "        vertical-align: top;\n",
       "    }\n",
       "\n",
       "    .dataframe thead th {\n",
       "        text-align: right;\n",
       "    }\n",
       "</style>\n",
       "<table border=\"1\" class=\"dataframe\">\n",
       "  <thead>\n",
       "    <tr style=\"text-align: right;\">\n",
       "      <th></th>\n",
       "      <th>1</th>\n",
       "      <th>3</th>\n",
       "      <th>Yeni_index</th>\n",
       "    </tr>\n",
       "    <tr>\n",
       "      <th>Yeni_index</th>\n",
       "      <th></th>\n",
       "      <th></th>\n",
       "      <th></th>\n",
       "    </tr>\n",
       "  </thead>\n",
       "  <tbody>\n",
       "    <tr>\n",
       "      <th>hus</th>\n",
       "      <td>0.263736</td>\n",
       "      <td>-0.704921</td>\n",
       "      <td>hus</td>\n",
       "    </tr>\n",
       "    <tr>\n",
       "      <th>semra</th>\n",
       "      <td>-1.252013</td>\n",
       "      <td>-0.521219</td>\n",
       "      <td>semra</td>\n",
       "    </tr>\n",
       "    <tr>\n",
       "      <th>dilek</th>\n",
       "      <td>0.029117</td>\n",
       "      <td>-0.415671</td>\n",
       "      <td>dilek</td>\n",
       "    </tr>\n",
       "    <tr>\n",
       "      <th>sare</th>\n",
       "      <td>0.737383</td>\n",
       "      <td>-0.558592</td>\n",
       "      <td>sare</td>\n",
       "    </tr>\n",
       "  </tbody>\n",
       "</table>\n",
       "</div>"
      ],
      "text/plain": [
       "                   1         3 Yeni_index\n",
       "Yeni_index                               \n",
       "hus         0.263736 -0.704921        hus\n",
       "semra      -1.252013 -0.521219      semra\n",
       "dilek       0.029117 -0.415671      dilek\n",
       "sare        0.737383 -0.558592       sare"
      ]
     },
     "execution_count": 134,
     "metadata": {},
     "output_type": "execute_result"
    }
   ],
   "source": [
    "yenidataframe"
   ]
  },
  {
   "cell_type": "code",
   "execution_count": 135,
   "id": "0b4f1b0a",
   "metadata": {},
   "outputs": [],
   "source": [
    "yenidataframe.set_index(\"Yeni_index\",inplace=True)"
   ]
  },
  {
   "cell_type": "code",
   "execution_count": 136,
   "id": "1861d099",
   "metadata": {},
   "outputs": [
    {
     "data": {
      "text/html": [
       "<div>\n",
       "<style scoped>\n",
       "    .dataframe tbody tr th:only-of-type {\n",
       "        vertical-align: middle;\n",
       "    }\n",
       "\n",
       "    .dataframe tbody tr th {\n",
       "        vertical-align: top;\n",
       "    }\n",
       "\n",
       "    .dataframe thead th {\n",
       "        text-align: right;\n",
       "    }\n",
       "</style>\n",
       "<table border=\"1\" class=\"dataframe\">\n",
       "  <thead>\n",
       "    <tr style=\"text-align: right;\">\n",
       "      <th></th>\n",
       "      <th>1</th>\n",
       "      <th>3</th>\n",
       "    </tr>\n",
       "    <tr>\n",
       "      <th>Yeni_index</th>\n",
       "      <th></th>\n",
       "      <th></th>\n",
       "    </tr>\n",
       "  </thead>\n",
       "  <tbody>\n",
       "    <tr>\n",
       "      <th>hus</th>\n",
       "      <td>0.263736</td>\n",
       "      <td>-0.704921</td>\n",
       "    </tr>\n",
       "    <tr>\n",
       "      <th>semra</th>\n",
       "      <td>-1.252013</td>\n",
       "      <td>-0.521219</td>\n",
       "    </tr>\n",
       "    <tr>\n",
       "      <th>dilek</th>\n",
       "      <td>0.029117</td>\n",
       "      <td>-0.415671</td>\n",
       "    </tr>\n",
       "    <tr>\n",
       "      <th>sare</th>\n",
       "      <td>0.737383</td>\n",
       "      <td>-0.558592</td>\n",
       "    </tr>\n",
       "  </tbody>\n",
       "</table>\n",
       "</div>"
      ],
      "text/plain": [
       "                   1         3\n",
       "Yeni_index                    \n",
       "hus         0.263736 -0.704921\n",
       "semra      -1.252013 -0.521219\n",
       "dilek       0.029117 -0.415671\n",
       "sare        0.737383 -0.558592"
      ]
     },
     "execution_count": 136,
     "metadata": {},
     "output_type": "execute_result"
    }
   ],
   "source": [
    "yenidataframe"
   ]
  },
  {
   "cell_type": "code",
   "execution_count": 137,
   "id": "ec51819b",
   "metadata": {},
   "outputs": [
    {
     "data": {
      "text/plain": [
       "1    0.263736\n",
       "3   -0.704921\n",
       "Name: hus, dtype: float64"
      ]
     },
     "execution_count": 137,
     "metadata": {},
     "output_type": "execute_result"
    }
   ],
   "source": [
    "yenidataframe.loc[\"hus\"]"
   ]
  },
  {
   "cell_type": "code",
   "execution_count": 138,
   "id": "4d5110db",
   "metadata": {},
   "outputs": [],
   "source": [
    "ilkindex=[\"Simpson\",\"Simpson\",\"Simpson\",\"Southpark\",\"Southpark\",\"Southpark\"]\n",
    "icindex=[\"homer\",\"bart\",\"marge\",\"Cartman\",\"Kenny\",\"Kyle\"]"
   ]
  },
  {
   "cell_type": "markdown",
   "id": "7911e525",
   "metadata": {},
   "source": [
    "# MULTI INDEX"
   ]
  },
  {
   "cell_type": "code",
   "execution_count": 139,
   "id": "3c5680d4",
   "metadata": {},
   "outputs": [],
   "source": [
    "birlesmisindex=list(zip(ilkindex,icindex))"
   ]
  },
  {
   "cell_type": "code",
   "execution_count": 140,
   "id": "eb64cfac",
   "metadata": {},
   "outputs": [
    {
     "data": {
      "text/plain": [
       "[('Simpson', 'homer'),\n",
       " ('Simpson', 'bart'),\n",
       " ('Simpson', 'marge'),\n",
       " ('Southpark', 'Cartman'),\n",
       " ('Southpark', 'Kenny'),\n",
       " ('Southpark', 'Kyle')]"
      ]
     },
     "execution_count": 140,
     "metadata": {},
     "output_type": "execute_result"
    }
   ],
   "source": [
    "birlesmisindex"
   ]
  },
  {
   "cell_type": "code",
   "execution_count": 142,
   "id": "18b9348d",
   "metadata": {},
   "outputs": [],
   "source": [
    "birlesmisindex=pd.MultiIndex.from_tuples(birlesmisindex)"
   ]
  },
  {
   "cell_type": "code",
   "execution_count": 143,
   "id": "33cb33fb",
   "metadata": {},
   "outputs": [
    {
     "data": {
      "text/plain": [
       "MultiIndex([(  'Simpson',   'homer'),\n",
       "            (  'Simpson',    'bart'),\n",
       "            (  'Simpson',   'marge'),\n",
       "            ('Southpark', 'Cartman'),\n",
       "            ('Southpark',   'Kenny'),\n",
       "            ('Southpark',    'Kyle')],\n",
       "           )"
      ]
     },
     "execution_count": 143,
     "metadata": {},
     "output_type": "execute_result"
    }
   ],
   "source": [
    "birlesmisindex"
   ]
  },
  {
   "cell_type": "code",
   "execution_count": 146,
   "id": "86b114f7",
   "metadata": {},
   "outputs": [
    {
     "data": {
      "text/plain": [
       "pandas.core.indexes.multi.MultiIndex"
      ]
     },
     "execution_count": 146,
     "metadata": {},
     "output_type": "execute_result"
    }
   ],
   "source": [
    "type(birlesmisindex)"
   ]
  },
  {
   "cell_type": "code",
   "execution_count": 147,
   "id": "7178bbad",
   "metadata": {},
   "outputs": [],
   "source": [
    "cizgifilmlistesi=[[40,\"A\"],[10,\"B\"],[30,\"C\"],[9,\"D\"],[10,\"E\"],[11,\"F\"]]"
   ]
  },
  {
   "cell_type": "code",
   "execution_count": 148,
   "id": "f60273f5",
   "metadata": {},
   "outputs": [],
   "source": [
    "cizgifilmlistesi_df=pd.DataFrame(cizgifilmlistesi, index=birlesmisindex , columns=[\"yas\",\"meslek\"])"
   ]
  },
  {
   "cell_type": "code",
   "execution_count": 149,
   "id": "799ad5ba",
   "metadata": {},
   "outputs": [
    {
     "data": {
      "text/html": [
       "<div>\n",
       "<style scoped>\n",
       "    .dataframe tbody tr th:only-of-type {\n",
       "        vertical-align: middle;\n",
       "    }\n",
       "\n",
       "    .dataframe tbody tr th {\n",
       "        vertical-align: top;\n",
       "    }\n",
       "\n",
       "    .dataframe thead th {\n",
       "        text-align: right;\n",
       "    }\n",
       "</style>\n",
       "<table border=\"1\" class=\"dataframe\">\n",
       "  <thead>\n",
       "    <tr style=\"text-align: right;\">\n",
       "      <th></th>\n",
       "      <th></th>\n",
       "      <th>yas</th>\n",
       "      <th>meslek</th>\n",
       "    </tr>\n",
       "  </thead>\n",
       "  <tbody>\n",
       "    <tr>\n",
       "      <th rowspan=\"3\" valign=\"top\">Simpson</th>\n",
       "      <th>homer</th>\n",
       "      <td>40</td>\n",
       "      <td>A</td>\n",
       "    </tr>\n",
       "    <tr>\n",
       "      <th>bart</th>\n",
       "      <td>10</td>\n",
       "      <td>B</td>\n",
       "    </tr>\n",
       "    <tr>\n",
       "      <th>marge</th>\n",
       "      <td>30</td>\n",
       "      <td>C</td>\n",
       "    </tr>\n",
       "    <tr>\n",
       "      <th rowspan=\"3\" valign=\"top\">Southpark</th>\n",
       "      <th>Cartman</th>\n",
       "      <td>9</td>\n",
       "      <td>D</td>\n",
       "    </tr>\n",
       "    <tr>\n",
       "      <th>Kenny</th>\n",
       "      <td>10</td>\n",
       "      <td>E</td>\n",
       "    </tr>\n",
       "    <tr>\n",
       "      <th>Kyle</th>\n",
       "      <td>11</td>\n",
       "      <td>F</td>\n",
       "    </tr>\n",
       "  </tbody>\n",
       "</table>\n",
       "</div>"
      ],
      "text/plain": [
       "                   yas meslek\n",
       "Simpson   homer     40      A\n",
       "          bart      10      B\n",
       "          marge     30      C\n",
       "Southpark Cartman    9      D\n",
       "          Kenny     10      E\n",
       "          Kyle      11      F"
      ]
     },
     "execution_count": 149,
     "metadata": {},
     "output_type": "execute_result"
    }
   ],
   "source": [
    "cizgifilmlistesi_df"
   ]
  },
  {
   "cell_type": "code",
   "execution_count": 150,
   "id": "9239b920",
   "metadata": {},
   "outputs": [
    {
     "data": {
      "text/html": [
       "<div>\n",
       "<style scoped>\n",
       "    .dataframe tbody tr th:only-of-type {\n",
       "        vertical-align: middle;\n",
       "    }\n",
       "\n",
       "    .dataframe tbody tr th {\n",
       "        vertical-align: top;\n",
       "    }\n",
       "\n",
       "    .dataframe thead th {\n",
       "        text-align: right;\n",
       "    }\n",
       "</style>\n",
       "<table border=\"1\" class=\"dataframe\">\n",
       "  <thead>\n",
       "    <tr style=\"text-align: right;\">\n",
       "      <th></th>\n",
       "      <th>yas</th>\n",
       "      <th>meslek</th>\n",
       "    </tr>\n",
       "  </thead>\n",
       "  <tbody>\n",
       "    <tr>\n",
       "      <th>homer</th>\n",
       "      <td>40</td>\n",
       "      <td>A</td>\n",
       "    </tr>\n",
       "    <tr>\n",
       "      <th>bart</th>\n",
       "      <td>10</td>\n",
       "      <td>B</td>\n",
       "    </tr>\n",
       "    <tr>\n",
       "      <th>marge</th>\n",
       "      <td>30</td>\n",
       "      <td>C</td>\n",
       "    </tr>\n",
       "  </tbody>\n",
       "</table>\n",
       "</div>"
      ],
      "text/plain": [
       "       yas meslek\n",
       "homer   40      A\n",
       "bart    10      B\n",
       "marge   30      C"
      ]
     },
     "execution_count": 150,
     "metadata": {},
     "output_type": "execute_result"
    }
   ],
   "source": [
    "cizgifilmlistesi_df.loc[\"Simpson\"]"
   ]
  },
  {
   "cell_type": "code",
   "execution_count": 157,
   "id": "8d3428a1",
   "metadata": {},
   "outputs": [
    {
     "data": {
      "text/plain": [
       "yas       40\n",
       "meslek     A\n",
       "Name: homer, dtype: object"
      ]
     },
     "execution_count": 157,
     "metadata": {},
     "output_type": "execute_result"
    }
   ],
   "source": [
    "cizgifilmlistesi_df.loc[\"Simpson\"].iloc[0]"
   ]
  },
  {
   "cell_type": "code",
   "execution_count": 159,
   "id": "acea7f63",
   "metadata": {},
   "outputs": [
    {
     "data": {
      "text/plain": [
       "yas       10\n",
       "meslek     B\n",
       "Name: bart, dtype: object"
      ]
     },
     "execution_count": 159,
     "metadata": {},
     "output_type": "execute_result"
    }
   ],
   "source": [
    "cizgifilmlistesi_df.loc[\"Simpson\"].loc[\"bart\"]"
   ]
  },
  {
   "cell_type": "markdown",
   "id": "af0db1b2",
   "metadata": {},
   "source": [
    "# MISSING VALUES"
   ]
  },
  {
   "cell_type": "code",
   "execution_count": 166,
   "id": "1afaa97b",
   "metadata": {},
   "outputs": [],
   "source": [
    "sozlukverisi={\"istanbul\":[25,28,np.nan],\"izmir\":[np.nan,21,43],\"manisa\":[np.nan,22,21]}"
   ]
  },
  {
   "cell_type": "code",
   "execution_count": 167,
   "id": "677f0636",
   "metadata": {},
   "outputs": [],
   "source": [
    "df_havadurumu=pd.DataFrame(sozlukverisi)"
   ]
  },
  {
   "cell_type": "code",
   "execution_count": 168,
   "id": "407ab199",
   "metadata": {},
   "outputs": [
    {
     "data": {
      "text/html": [
       "<div>\n",
       "<style scoped>\n",
       "    .dataframe tbody tr th:only-of-type {\n",
       "        vertical-align: middle;\n",
       "    }\n",
       "\n",
       "    .dataframe tbody tr th {\n",
       "        vertical-align: top;\n",
       "    }\n",
       "\n",
       "    .dataframe thead th {\n",
       "        text-align: right;\n",
       "    }\n",
       "</style>\n",
       "<table border=\"1\" class=\"dataframe\">\n",
       "  <thead>\n",
       "    <tr style=\"text-align: right;\">\n",
       "      <th></th>\n",
       "      <th>istanbul</th>\n",
       "      <th>izmir</th>\n",
       "      <th>manisa</th>\n",
       "    </tr>\n",
       "  </thead>\n",
       "  <tbody>\n",
       "    <tr>\n",
       "      <th>0</th>\n",
       "      <td>25.0</td>\n",
       "      <td>NaN</td>\n",
       "      <td>NaN</td>\n",
       "    </tr>\n",
       "    <tr>\n",
       "      <th>1</th>\n",
       "      <td>28.0</td>\n",
       "      <td>21.0</td>\n",
       "      <td>22.0</td>\n",
       "    </tr>\n",
       "    <tr>\n",
       "      <th>2</th>\n",
       "      <td>NaN</td>\n",
       "      <td>43.0</td>\n",
       "      <td>21.0</td>\n",
       "    </tr>\n",
       "  </tbody>\n",
       "</table>\n",
       "</div>"
      ],
      "text/plain": [
       "   istanbul  izmir  manisa\n",
       "0      25.0    NaN     NaN\n",
       "1      28.0   21.0    22.0\n",
       "2       NaN   43.0    21.0"
      ]
     },
     "execution_count": 168,
     "metadata": {},
     "output_type": "execute_result"
    }
   ],
   "source": [
    "df_havadurumu"
   ]
  },
  {
   "cell_type": "code",
   "execution_count": 171,
   "id": "8cbd7d48",
   "metadata": {},
   "outputs": [
    {
     "data": {
      "text/html": [
       "<div>\n",
       "<style scoped>\n",
       "    .dataframe tbody tr th:only-of-type {\n",
       "        vertical-align: middle;\n",
       "    }\n",
       "\n",
       "    .dataframe tbody tr th {\n",
       "        vertical-align: top;\n",
       "    }\n",
       "\n",
       "    .dataframe thead th {\n",
       "        text-align: right;\n",
       "    }\n",
       "</style>\n",
       "<table border=\"1\" class=\"dataframe\">\n",
       "  <thead>\n",
       "    <tr style=\"text-align: right;\">\n",
       "      <th></th>\n",
       "      <th>istanbul</th>\n",
       "      <th>izmir</th>\n",
       "      <th>manisa</th>\n",
       "    </tr>\n",
       "  </thead>\n",
       "  <tbody>\n",
       "    <tr>\n",
       "      <th>1</th>\n",
       "      <td>28.0</td>\n",
       "      <td>21.0</td>\n",
       "      <td>22.0</td>\n",
       "    </tr>\n",
       "  </tbody>\n",
       "</table>\n",
       "</div>"
      ],
      "text/plain": [
       "   istanbul  izmir  manisa\n",
       "1      28.0   21.0    22.0"
      ]
     },
     "execution_count": 171,
     "metadata": {},
     "output_type": "execute_result"
    }
   ],
   "source": [
    "df_havadurumu.dropna()"
   ]
  },
  {
   "cell_type": "code",
   "execution_count": 172,
   "id": "11d7cc47",
   "metadata": {},
   "outputs": [
    {
     "data": {
      "text/html": [
       "<div>\n",
       "<style scoped>\n",
       "    .dataframe tbody tr th:only-of-type {\n",
       "        vertical-align: middle;\n",
       "    }\n",
       "\n",
       "    .dataframe tbody tr th {\n",
       "        vertical-align: top;\n",
       "    }\n",
       "\n",
       "    .dataframe thead th {\n",
       "        text-align: right;\n",
       "    }\n",
       "</style>\n",
       "<table border=\"1\" class=\"dataframe\">\n",
       "  <thead>\n",
       "    <tr style=\"text-align: right;\">\n",
       "      <th></th>\n",
       "      <th>istanbul</th>\n",
       "      <th>izmir</th>\n",
       "      <th>manisa</th>\n",
       "    </tr>\n",
       "  </thead>\n",
       "  <tbody>\n",
       "    <tr>\n",
       "      <th>0</th>\n",
       "      <td>25.0</td>\n",
       "      <td>23.0</td>\n",
       "      <td>23.0</td>\n",
       "    </tr>\n",
       "    <tr>\n",
       "      <th>1</th>\n",
       "      <td>28.0</td>\n",
       "      <td>21.0</td>\n",
       "      <td>22.0</td>\n",
       "    </tr>\n",
       "    <tr>\n",
       "      <th>2</th>\n",
       "      <td>23.0</td>\n",
       "      <td>43.0</td>\n",
       "      <td>21.0</td>\n",
       "    </tr>\n",
       "  </tbody>\n",
       "</table>\n",
       "</div>"
      ],
      "text/plain": [
       "   istanbul  izmir  manisa\n",
       "0      25.0   23.0    23.0\n",
       "1      28.0   21.0    22.0\n",
       "2      23.0   43.0    21.0"
      ]
     },
     "execution_count": 172,
     "metadata": {},
     "output_type": "execute_result"
    }
   ],
   "source": [
    "df_havadurumu.fillna(23)"
   ]
  },
  {
   "cell_type": "code",
   "execution_count": 175,
   "id": "1b356dbb",
   "metadata": {},
   "outputs": [],
   "source": [
    "sozlukverisi2={\"istanbul\":[25,28,np.nan],\"izmir\":[np.nan,21,43],\"manisa\":[np.nan,22,21],\n",
    "               \"antalya\":[np.nan,np.nan,34]}"
   ]
  },
  {
   "cell_type": "code",
   "execution_count": 177,
   "id": "59f955ac",
   "metadata": {},
   "outputs": [],
   "source": [
    "df_havadurumu2=pd.DataFrame(sozlukverisi2)"
   ]
  },
  {
   "cell_type": "code",
   "execution_count": 179,
   "id": "aa9c3bcd",
   "metadata": {},
   "outputs": [
    {
     "data": {
      "text/html": [
       "<div>\n",
       "<style scoped>\n",
       "    .dataframe tbody tr th:only-of-type {\n",
       "        vertical-align: middle;\n",
       "    }\n",
       "\n",
       "    .dataframe tbody tr th {\n",
       "        vertical-align: top;\n",
       "    }\n",
       "\n",
       "    .dataframe thead th {\n",
       "        text-align: right;\n",
       "    }\n",
       "</style>\n",
       "<table border=\"1\" class=\"dataframe\">\n",
       "  <thead>\n",
       "    <tr style=\"text-align: right;\">\n",
       "      <th></th>\n",
       "      <th>istanbul</th>\n",
       "      <th>izmir</th>\n",
       "      <th>manisa</th>\n",
       "    </tr>\n",
       "  </thead>\n",
       "  <tbody>\n",
       "    <tr>\n",
       "      <th>0</th>\n",
       "      <td>25.0</td>\n",
       "      <td>NaN</td>\n",
       "      <td>NaN</td>\n",
       "    </tr>\n",
       "    <tr>\n",
       "      <th>1</th>\n",
       "      <td>28.0</td>\n",
       "      <td>21.0</td>\n",
       "      <td>22.0</td>\n",
       "    </tr>\n",
       "    <tr>\n",
       "      <th>2</th>\n",
       "      <td>NaN</td>\n",
       "      <td>43.0</td>\n",
       "      <td>21.0</td>\n",
       "    </tr>\n",
       "  </tbody>\n",
       "</table>\n",
       "</div>"
      ],
      "text/plain": [
       "   istanbul  izmir  manisa\n",
       "0      25.0    NaN     NaN\n",
       "1      28.0   21.0    22.0\n",
       "2       NaN   43.0    21.0"
      ]
     },
     "execution_count": 179,
     "metadata": {},
     "output_type": "execute_result"
    }
   ],
   "source": [
    "df_havadurumu2.dropna(axis=1,thresh=2)"
   ]
  },
  {
   "cell_type": "code",
   "execution_count": 180,
   "id": "46807c8d",
   "metadata": {},
   "outputs": [],
   "source": [
    "sozlukverisi3={\"istanbul\":[25,28,np.nan],\"izmir\":[np.nan,21,43],\"manisa\":[np.nan,22,21],\n",
    "               \"antalya\":[np.nan,np.nan,34]}"
   ]
  },
  {
   "cell_type": "code",
   "execution_count": 181,
   "id": "71034998",
   "metadata": {},
   "outputs": [],
   "source": [
    "df_havadurumu3=pd.DataFrame(sozlukverisi3)"
   ]
  },
  {
   "cell_type": "code",
   "execution_count": 186,
   "id": "eb596dd7",
   "metadata": {},
   "outputs": [
    {
     "data": {
      "text/html": [
       "<div>\n",
       "<style scoped>\n",
       "    .dataframe tbody tr th:only-of-type {\n",
       "        vertical-align: middle;\n",
       "    }\n",
       "\n",
       "    .dataframe tbody tr th {\n",
       "        vertical-align: top;\n",
       "    }\n",
       "\n",
       "    .dataframe thead th {\n",
       "        text-align: right;\n",
       "    }\n",
       "</style>\n",
       "<table border=\"1\" class=\"dataframe\">\n",
       "  <thead>\n",
       "    <tr style=\"text-align: right;\">\n",
       "      <th></th>\n",
       "      <th>istanbul</th>\n",
       "      <th>izmir</th>\n",
       "      <th>manisa</th>\n",
       "      <th>antalya</th>\n",
       "    </tr>\n",
       "  </thead>\n",
       "  <tbody>\n",
       "    <tr>\n",
       "      <th>0</th>\n",
       "      <td>25.0</td>\n",
       "      <td>32.0</td>\n",
       "      <td>21.5</td>\n",
       "      <td>34.0</td>\n",
       "    </tr>\n",
       "    <tr>\n",
       "      <th>1</th>\n",
       "      <td>28.0</td>\n",
       "      <td>21.0</td>\n",
       "      <td>22.0</td>\n",
       "      <td>34.0</td>\n",
       "    </tr>\n",
       "    <tr>\n",
       "      <th>2</th>\n",
       "      <td>26.5</td>\n",
       "      <td>43.0</td>\n",
       "      <td>21.0</td>\n",
       "      <td>34.0</td>\n",
       "    </tr>\n",
       "  </tbody>\n",
       "</table>\n",
       "</div>"
      ],
      "text/plain": [
       "   istanbul  izmir  manisa  antalya\n",
       "0      25.0   32.0    21.5     34.0\n",
       "1      28.0   21.0    22.0     34.0\n",
       "2      26.5   43.0    21.0     34.0"
      ]
     },
     "execution_count": 186,
     "metadata": {},
     "output_type": "execute_result"
    }
   ],
   "source": [
    "df_havadurumu3.fillna(df_havadurumu3.mean())"
   ]
  },
  {
   "cell_type": "markdown",
   "id": "cc3fb1c1",
   "metadata": {},
   "source": [
    "# GROUP BY"
   ]
  },
  {
   "cell_type": "code",
   "execution_count": 4,
   "id": "a094e17c",
   "metadata": {},
   "outputs": [],
   "source": [
    "import pandas as pd\n",
    "import numpy as np"
   ]
  },
  {
   "cell_type": "code",
   "execution_count": 9,
   "id": "b7eda590",
   "metadata": {},
   "outputs": [],
   "source": [
    "maas_sozlugu={\"Departmanlar\":[\"Finans\",\"Finans\",\"Yazılım\",\"Yazılım\",\"IK\",\"Hukuk\"],\n",
    "             \"Çalışan isimleri\":[\"Ahmet\",\"Mehmet\",\"Hüseyin\",\"Sare\",\"Zeynep\",\"Burak\"],\n",
    "             \"Maas\":[4000,5000,5000,10000,6000,7500]}"
   ]
  },
  {
   "cell_type": "code",
   "execution_count": 10,
   "id": "b569e259",
   "metadata": {},
   "outputs": [
    {
     "data": {
      "text/plain": [
       "{'Departmanlar': ['Finans', 'Finans', 'Yazılım', 'Yazılım', 'IK', 'Hukuk'],\n",
       " 'Çalışan isimleri': ['Ahmet', 'Mehmet', 'Hüseyin', 'Sare', 'Zeynep', 'Burak'],\n",
       " 'Maas': [4000, 5000, 5000, 10000, 6000, 7500]}"
      ]
     },
     "execution_count": 10,
     "metadata": {},
     "output_type": "execute_result"
    }
   ],
   "source": [
    "maas_sozlugu"
   ]
  },
  {
   "cell_type": "code",
   "execution_count": 11,
   "id": "7506010d",
   "metadata": {},
   "outputs": [],
   "source": [
    "maas_sozlugu_df=pd.DataFrame(maas_sozlugu)"
   ]
  },
  {
   "cell_type": "code",
   "execution_count": 12,
   "id": "7cfa00e5",
   "metadata": {},
   "outputs": [
    {
     "data": {
      "text/html": [
       "<div>\n",
       "<style scoped>\n",
       "    .dataframe tbody tr th:only-of-type {\n",
       "        vertical-align: middle;\n",
       "    }\n",
       "\n",
       "    .dataframe tbody tr th {\n",
       "        vertical-align: top;\n",
       "    }\n",
       "\n",
       "    .dataframe thead th {\n",
       "        text-align: right;\n",
       "    }\n",
       "</style>\n",
       "<table border=\"1\" class=\"dataframe\">\n",
       "  <thead>\n",
       "    <tr style=\"text-align: right;\">\n",
       "      <th></th>\n",
       "      <th>Departmanlar</th>\n",
       "      <th>Çalışan isimleri</th>\n",
       "      <th>Maas</th>\n",
       "    </tr>\n",
       "  </thead>\n",
       "  <tbody>\n",
       "    <tr>\n",
       "      <th>0</th>\n",
       "      <td>Finans</td>\n",
       "      <td>Ahmet</td>\n",
       "      <td>4000</td>\n",
       "    </tr>\n",
       "    <tr>\n",
       "      <th>1</th>\n",
       "      <td>Finans</td>\n",
       "      <td>Mehmet</td>\n",
       "      <td>5000</td>\n",
       "    </tr>\n",
       "    <tr>\n",
       "      <th>2</th>\n",
       "      <td>Yazılım</td>\n",
       "      <td>Hüseyin</td>\n",
       "      <td>5000</td>\n",
       "    </tr>\n",
       "    <tr>\n",
       "      <th>3</th>\n",
       "      <td>Yazılım</td>\n",
       "      <td>Sare</td>\n",
       "      <td>10000</td>\n",
       "    </tr>\n",
       "    <tr>\n",
       "      <th>4</th>\n",
       "      <td>IK</td>\n",
       "      <td>Zeynep</td>\n",
       "      <td>6000</td>\n",
       "    </tr>\n",
       "    <tr>\n",
       "      <th>5</th>\n",
       "      <td>Hukuk</td>\n",
       "      <td>Burak</td>\n",
       "      <td>7500</td>\n",
       "    </tr>\n",
       "  </tbody>\n",
       "</table>\n",
       "</div>"
      ],
      "text/plain": [
       "  Departmanlar Çalışan isimleri   Maas\n",
       "0       Finans            Ahmet   4000\n",
       "1       Finans           Mehmet   5000\n",
       "2      Yazılım          Hüseyin   5000\n",
       "3      Yazılım             Sare  10000\n",
       "4           IK           Zeynep   6000\n",
       "5        Hukuk            Burak   7500"
      ]
     },
     "execution_count": 12,
     "metadata": {},
     "output_type": "execute_result"
    }
   ],
   "source": [
    "maas_sozlugu_df"
   ]
  },
  {
   "cell_type": "code",
   "execution_count": 19,
   "id": "15a1368f",
   "metadata": {},
   "outputs": [],
   "source": [
    "grup=maas_sozlugu_df.groupby(\"Departmanlar\")"
   ]
  },
  {
   "cell_type": "code",
   "execution_count": 22,
   "id": "b4053e19",
   "metadata": {},
   "outputs": [
    {
     "data": {
      "text/html": [
       "<div>\n",
       "<style scoped>\n",
       "    .dataframe tbody tr th:only-of-type {\n",
       "        vertical-align: middle;\n",
       "    }\n",
       "\n",
       "    .dataframe tbody tr th {\n",
       "        vertical-align: top;\n",
       "    }\n",
       "\n",
       "    .dataframe thead th {\n",
       "        text-align: right;\n",
       "    }\n",
       "</style>\n",
       "<table border=\"1\" class=\"dataframe\">\n",
       "  <thead>\n",
       "    <tr style=\"text-align: right;\">\n",
       "      <th></th>\n",
       "      <th>Çalışan isimleri</th>\n",
       "      <th>Maas</th>\n",
       "    </tr>\n",
       "    <tr>\n",
       "      <th>Departmanlar</th>\n",
       "      <th></th>\n",
       "      <th></th>\n",
       "    </tr>\n",
       "  </thead>\n",
       "  <tbody>\n",
       "    <tr>\n",
       "      <th>Finans</th>\n",
       "      <td>2</td>\n",
       "      <td>2</td>\n",
       "    </tr>\n",
       "    <tr>\n",
       "      <th>Hukuk</th>\n",
       "      <td>1</td>\n",
       "      <td>1</td>\n",
       "    </tr>\n",
       "    <tr>\n",
       "      <th>IK</th>\n",
       "      <td>1</td>\n",
       "      <td>1</td>\n",
       "    </tr>\n",
       "    <tr>\n",
       "      <th>Yazılım</th>\n",
       "      <td>2</td>\n",
       "      <td>2</td>\n",
       "    </tr>\n",
       "  </tbody>\n",
       "</table>\n",
       "</div>"
      ],
      "text/plain": [
       "              Çalışan isimleri  Maas\n",
       "Departmanlar                        \n",
       "Finans                       2     2\n",
       "Hukuk                        1     1\n",
       "IK                           1     1\n",
       "Yazılım                      2     2"
      ]
     },
     "execution_count": 22,
     "metadata": {},
     "output_type": "execute_result"
    }
   ],
   "source": [
    "grup.count()"
   ]
  },
  {
   "cell_type": "code",
   "execution_count": 23,
   "id": "06418a6e",
   "metadata": {},
   "outputs": [
    {
     "data": {
      "text/html": [
       "<div>\n",
       "<style scoped>\n",
       "    .dataframe tbody tr th:only-of-type {\n",
       "        vertical-align: middle;\n",
       "    }\n",
       "\n",
       "    .dataframe tbody tr th {\n",
       "        vertical-align: top;\n",
       "    }\n",
       "\n",
       "    .dataframe thead th {\n",
       "        text-align: right;\n",
       "    }\n",
       "</style>\n",
       "<table border=\"1\" class=\"dataframe\">\n",
       "  <thead>\n",
       "    <tr style=\"text-align: right;\">\n",
       "      <th></th>\n",
       "      <th>Maas</th>\n",
       "    </tr>\n",
       "    <tr>\n",
       "      <th>Departmanlar</th>\n",
       "      <th></th>\n",
       "    </tr>\n",
       "  </thead>\n",
       "  <tbody>\n",
       "    <tr>\n",
       "      <th>Finans</th>\n",
       "      <td>4500.0</td>\n",
       "    </tr>\n",
       "    <tr>\n",
       "      <th>Hukuk</th>\n",
       "      <td>7500.0</td>\n",
       "    </tr>\n",
       "    <tr>\n",
       "      <th>IK</th>\n",
       "      <td>6000.0</td>\n",
       "    </tr>\n",
       "    <tr>\n",
       "      <th>Yazılım</th>\n",
       "      <td>7500.0</td>\n",
       "    </tr>\n",
       "  </tbody>\n",
       "</table>\n",
       "</div>"
      ],
      "text/plain": [
       "                Maas\n",
       "Departmanlar        \n",
       "Finans        4500.0\n",
       "Hukuk         7500.0\n",
       "IK            6000.0\n",
       "Yazılım       7500.0"
      ]
     },
     "execution_count": 23,
     "metadata": {},
     "output_type": "execute_result"
    }
   ],
   "source": [
    "grup.mean()"
   ]
  },
  {
   "cell_type": "code",
   "execution_count": 29,
   "id": "8dcaa8ac",
   "metadata": {},
   "outputs": [
    {
     "data": {
      "text/html": [
       "<div>\n",
       "<style scoped>\n",
       "    .dataframe tbody tr th:only-of-type {\n",
       "        vertical-align: middle;\n",
       "    }\n",
       "\n",
       "    .dataframe tbody tr th {\n",
       "        vertical-align: top;\n",
       "    }\n",
       "\n",
       "    .dataframe thead tr th {\n",
       "        text-align: left;\n",
       "    }\n",
       "\n",
       "    .dataframe thead tr:last-of-type th {\n",
       "        text-align: right;\n",
       "    }\n",
       "</style>\n",
       "<table border=\"1\" class=\"dataframe\">\n",
       "  <thead>\n",
       "    <tr>\n",
       "      <th></th>\n",
       "      <th colspan=\"8\" halign=\"left\">Maas</th>\n",
       "    </tr>\n",
       "    <tr>\n",
       "      <th></th>\n",
       "      <th>count</th>\n",
       "      <th>mean</th>\n",
       "      <th>std</th>\n",
       "      <th>min</th>\n",
       "      <th>25%</th>\n",
       "      <th>50%</th>\n",
       "      <th>75%</th>\n",
       "      <th>max</th>\n",
       "    </tr>\n",
       "    <tr>\n",
       "      <th>Departmanlar</th>\n",
       "      <th></th>\n",
       "      <th></th>\n",
       "      <th></th>\n",
       "      <th></th>\n",
       "      <th></th>\n",
       "      <th></th>\n",
       "      <th></th>\n",
       "      <th></th>\n",
       "    </tr>\n",
       "  </thead>\n",
       "  <tbody>\n",
       "    <tr>\n",
       "      <th>Finans</th>\n",
       "      <td>2.0</td>\n",
       "      <td>4500.0</td>\n",
       "      <td>707.106781</td>\n",
       "      <td>4000.0</td>\n",
       "      <td>4250.0</td>\n",
       "      <td>4500.0</td>\n",
       "      <td>4750.0</td>\n",
       "      <td>5000.0</td>\n",
       "    </tr>\n",
       "    <tr>\n",
       "      <th>Hukuk</th>\n",
       "      <td>1.0</td>\n",
       "      <td>7500.0</td>\n",
       "      <td>NaN</td>\n",
       "      <td>7500.0</td>\n",
       "      <td>7500.0</td>\n",
       "      <td>7500.0</td>\n",
       "      <td>7500.0</td>\n",
       "      <td>7500.0</td>\n",
       "    </tr>\n",
       "    <tr>\n",
       "      <th>IK</th>\n",
       "      <td>1.0</td>\n",
       "      <td>6000.0</td>\n",
       "      <td>NaN</td>\n",
       "      <td>6000.0</td>\n",
       "      <td>6000.0</td>\n",
       "      <td>6000.0</td>\n",
       "      <td>6000.0</td>\n",
       "      <td>6000.0</td>\n",
       "    </tr>\n",
       "    <tr>\n",
       "      <th>Yazılım</th>\n",
       "      <td>2.0</td>\n",
       "      <td>7500.0</td>\n",
       "      <td>3535.533906</td>\n",
       "      <td>5000.0</td>\n",
       "      <td>6250.0</td>\n",
       "      <td>7500.0</td>\n",
       "      <td>8750.0</td>\n",
       "      <td>10000.0</td>\n",
       "    </tr>\n",
       "  </tbody>\n",
       "</table>\n",
       "</div>"
      ],
      "text/plain": [
       "              Maas                                                       \\\n",
       "             count    mean          std     min     25%     50%     75%   \n",
       "Departmanlar                                                              \n",
       "Finans         2.0  4500.0   707.106781  4000.0  4250.0  4500.0  4750.0   \n",
       "Hukuk          1.0  7500.0          NaN  7500.0  7500.0  7500.0  7500.0   \n",
       "IK             1.0  6000.0          NaN  6000.0  6000.0  6000.0  6000.0   \n",
       "Yazılım        2.0  7500.0  3535.533906  5000.0  6250.0  7500.0  8750.0   \n",
       "\n",
       "                       \n",
       "                  max  \n",
       "Departmanlar           \n",
       "Finans         5000.0  \n",
       "Hukuk          7500.0  \n",
       "IK             6000.0  \n",
       "Yazılım       10000.0  "
      ]
     },
     "execution_count": 29,
     "metadata": {},
     "output_type": "execute_result"
    }
   ],
   "source": [
    "grup.describe()\n"
   ]
  },
  {
   "cell_type": "markdown",
   "id": "6f1ef58d",
   "metadata": {},
   "source": [
    "# merging (kaynastırma)"
   ]
  },
  {
   "cell_type": "code",
   "execution_count": 30,
   "id": "eebc21ed",
   "metadata": {},
   "outputs": [],
   "source": [
    "mergesozluk1={\"isimler\":[\"Ali\",\"Veli\",\"Osman\",\"Haydar\"], \"Spor\":[\"Yuzme\",\"Futbol\",\"Basketbol\",\"Tenis\"],}\n",
    "mergesozluk2={\"isimler\":[\"Ali\",\"Veli\",\"Osman\",\"Haydar\"], \"Kalori\":[100,200,150,170]}"
   ]
  },
  {
   "cell_type": "code",
   "execution_count": 31,
   "id": "e1634429",
   "metadata": {},
   "outputs": [
    {
     "data": {
      "text/html": [
       "<div>\n",
       "<style scoped>\n",
       "    .dataframe tbody tr th:only-of-type {\n",
       "        vertical-align: middle;\n",
       "    }\n",
       "\n",
       "    .dataframe tbody tr th {\n",
       "        vertical-align: top;\n",
       "    }\n",
       "\n",
       "    .dataframe thead th {\n",
       "        text-align: right;\n",
       "    }\n",
       "</style>\n",
       "<table border=\"1\" class=\"dataframe\">\n",
       "  <thead>\n",
       "    <tr style=\"text-align: right;\">\n",
       "      <th></th>\n",
       "      <th>isimler</th>\n",
       "      <th>Spor</th>\n",
       "    </tr>\n",
       "  </thead>\n",
       "  <tbody>\n",
       "    <tr>\n",
       "      <th>0</th>\n",
       "      <td>Ali</td>\n",
       "      <td>Yuzme</td>\n",
       "    </tr>\n",
       "    <tr>\n",
       "      <th>1</th>\n",
       "      <td>Veli</td>\n",
       "      <td>Futbol</td>\n",
       "    </tr>\n",
       "    <tr>\n",
       "      <th>2</th>\n",
       "      <td>Osman</td>\n",
       "      <td>Basketbol</td>\n",
       "    </tr>\n",
       "    <tr>\n",
       "      <th>3</th>\n",
       "      <td>Haydar</td>\n",
       "      <td>Tenis</td>\n",
       "    </tr>\n",
       "  </tbody>\n",
       "</table>\n",
       "</div>"
      ],
      "text/plain": [
       "  isimler       Spor\n",
       "0     Ali      Yuzme\n",
       "1    Veli     Futbol\n",
       "2   Osman  Basketbol\n",
       "3  Haydar      Tenis"
      ]
     },
     "execution_count": 31,
     "metadata": {},
     "output_type": "execute_result"
    }
   ],
   "source": [
    "merge_df1=pd.DataFrame(mergesozluk1)\n",
    "merge_df1"
   ]
  },
  {
   "cell_type": "code",
   "execution_count": 32,
   "id": "d386ef12",
   "metadata": {},
   "outputs": [
    {
     "data": {
      "text/html": [
       "<div>\n",
       "<style scoped>\n",
       "    .dataframe tbody tr th:only-of-type {\n",
       "        vertical-align: middle;\n",
       "    }\n",
       "\n",
       "    .dataframe tbody tr th {\n",
       "        vertical-align: top;\n",
       "    }\n",
       "\n",
       "    .dataframe thead th {\n",
       "        text-align: right;\n",
       "    }\n",
       "</style>\n",
       "<table border=\"1\" class=\"dataframe\">\n",
       "  <thead>\n",
       "    <tr style=\"text-align: right;\">\n",
       "      <th></th>\n",
       "      <th>isimler</th>\n",
       "      <th>Kalori</th>\n",
       "    </tr>\n",
       "  </thead>\n",
       "  <tbody>\n",
       "    <tr>\n",
       "      <th>0</th>\n",
       "      <td>Ali</td>\n",
       "      <td>100</td>\n",
       "    </tr>\n",
       "    <tr>\n",
       "      <th>1</th>\n",
       "      <td>Veli</td>\n",
       "      <td>200</td>\n",
       "    </tr>\n",
       "    <tr>\n",
       "      <th>2</th>\n",
       "      <td>Osman</td>\n",
       "      <td>150</td>\n",
       "    </tr>\n",
       "    <tr>\n",
       "      <th>3</th>\n",
       "      <td>Haydar</td>\n",
       "      <td>170</td>\n",
       "    </tr>\n",
       "  </tbody>\n",
       "</table>\n",
       "</div>"
      ],
      "text/plain": [
       "  isimler  Kalori\n",
       "0     Ali     100\n",
       "1    Veli     200\n",
       "2   Osman     150\n",
       "3  Haydar     170"
      ]
     },
     "execution_count": 32,
     "metadata": {},
     "output_type": "execute_result"
    }
   ],
   "source": [
    "merge_df2=pd.DataFrame(mergesozluk2)\n",
    "merge_df2"
   ]
  },
  {
   "cell_type": "code",
   "execution_count": 36,
   "id": "ce39c975",
   "metadata": {},
   "outputs": [
    {
     "data": {
      "text/html": [
       "<div>\n",
       "<style scoped>\n",
       "    .dataframe tbody tr th:only-of-type {\n",
       "        vertical-align: middle;\n",
       "    }\n",
       "\n",
       "    .dataframe tbody tr th {\n",
       "        vertical-align: top;\n",
       "    }\n",
       "\n",
       "    .dataframe thead th {\n",
       "        text-align: right;\n",
       "    }\n",
       "</style>\n",
       "<table border=\"1\" class=\"dataframe\">\n",
       "  <thead>\n",
       "    <tr style=\"text-align: right;\">\n",
       "      <th></th>\n",
       "      <th>isimler</th>\n",
       "      <th>Spor</th>\n",
       "      <th>Kalori</th>\n",
       "    </tr>\n",
       "  </thead>\n",
       "  <tbody>\n",
       "    <tr>\n",
       "      <th>0</th>\n",
       "      <td>Ali</td>\n",
       "      <td>Yuzme</td>\n",
       "      <td>100</td>\n",
       "    </tr>\n",
       "    <tr>\n",
       "      <th>1</th>\n",
       "      <td>Veli</td>\n",
       "      <td>Futbol</td>\n",
       "      <td>200</td>\n",
       "    </tr>\n",
       "    <tr>\n",
       "      <th>2</th>\n",
       "      <td>Osman</td>\n",
       "      <td>Basketbol</td>\n",
       "      <td>150</td>\n",
       "    </tr>\n",
       "    <tr>\n",
       "      <th>3</th>\n",
       "      <td>Haydar</td>\n",
       "      <td>Tenis</td>\n",
       "      <td>170</td>\n",
       "    </tr>\n",
       "  </tbody>\n",
       "</table>\n",
       "</div>"
      ],
      "text/plain": [
       "  isimler       Spor  Kalori\n",
       "0     Ali      Yuzme     100\n",
       "1    Veli     Futbol     200\n",
       "2   Osman  Basketbol     150\n",
       "3  Haydar      Tenis     170"
      ]
     },
     "execution_count": 36,
     "metadata": {},
     "output_type": "execute_result"
    }
   ],
   "source": [
    "pd.merge(merge_df1,merge_df2, on=\"isimler\")"
   ]
  },
  {
   "cell_type": "code",
   "execution_count": 37,
   "id": "9059ac62",
   "metadata": {},
   "outputs": [],
   "source": [
    "maas={\"isimler\":[\"Hüseyin\",\"Zeynep\",\"Sare\",\"Burak\"],\n",
    "      \"Departman\":[\"Yazılım\",\"Satış\",\"Pazarlama\",\"Yazılım\"],\n",
    "     \"Maas\":[200,300,400,500]}"
   ]
  },
  {
   "cell_type": "code",
   "execution_count": 38,
   "id": "3651a76d",
   "metadata": {},
   "outputs": [],
   "source": [
    "maas_df=pd.DataFrame(maas)"
   ]
  },
  {
   "cell_type": "code",
   "execution_count": 39,
   "id": "9486a396",
   "metadata": {},
   "outputs": [
    {
     "data": {
      "text/html": [
       "<div>\n",
       "<style scoped>\n",
       "    .dataframe tbody tr th:only-of-type {\n",
       "        vertical-align: middle;\n",
       "    }\n",
       "\n",
       "    .dataframe tbody tr th {\n",
       "        vertical-align: top;\n",
       "    }\n",
       "\n",
       "    .dataframe thead th {\n",
       "        text-align: right;\n",
       "    }\n",
       "</style>\n",
       "<table border=\"1\" class=\"dataframe\">\n",
       "  <thead>\n",
       "    <tr style=\"text-align: right;\">\n",
       "      <th></th>\n",
       "      <th>isimler</th>\n",
       "      <th>Departman</th>\n",
       "      <th>Maas</th>\n",
       "    </tr>\n",
       "  </thead>\n",
       "  <tbody>\n",
       "    <tr>\n",
       "      <th>0</th>\n",
       "      <td>Hüseyin</td>\n",
       "      <td>Yazılım</td>\n",
       "      <td>200</td>\n",
       "    </tr>\n",
       "    <tr>\n",
       "      <th>1</th>\n",
       "      <td>Zeynep</td>\n",
       "      <td>Satış</td>\n",
       "      <td>300</td>\n",
       "    </tr>\n",
       "    <tr>\n",
       "      <th>2</th>\n",
       "      <td>Sare</td>\n",
       "      <td>Pazarlama</td>\n",
       "      <td>400</td>\n",
       "    </tr>\n",
       "    <tr>\n",
       "      <th>3</th>\n",
       "      <td>Burak</td>\n",
       "      <td>Yazılım</td>\n",
       "      <td>500</td>\n",
       "    </tr>\n",
       "  </tbody>\n",
       "</table>\n",
       "</div>"
      ],
      "text/plain": [
       "   isimler  Departman  Maas\n",
       "0  Hüseyin    Yazılım   200\n",
       "1   Zeynep      Satış   300\n",
       "2     Sare  Pazarlama   400\n",
       "3    Burak    Yazılım   500"
      ]
     },
     "execution_count": 39,
     "metadata": {},
     "output_type": "execute_result"
    }
   ],
   "source": [
    "maas_df"
   ]
  },
  {
   "cell_type": "code",
   "execution_count": 41,
   "id": "18b7944e",
   "metadata": {},
   "outputs": [
    {
     "data": {
      "text/plain": [
       "array(['Yazılım', 'Satış', 'Pazarlama'], dtype=object)"
      ]
     },
     "execution_count": 41,
     "metadata": {},
     "output_type": "execute_result"
    }
   ],
   "source": [
    "maas_df[\"Departman\"].unique()"
   ]
  },
  {
   "cell_type": "code",
   "execution_count": 42,
   "id": "d3689c76",
   "metadata": {},
   "outputs": [
    {
     "data": {
      "text/plain": [
       "3"
      ]
     },
     "execution_count": 42,
     "metadata": {},
     "output_type": "execute_result"
    }
   ],
   "source": [
    "maas_df[\"Departman\"].nunique()"
   ]
  },
  {
   "cell_type": "code",
   "execution_count": 43,
   "id": "60a6b53b",
   "metadata": {},
   "outputs": [
    {
     "data": {
      "text/plain": [
       "Yazılım      2\n",
       "Satış        1\n",
       "Pazarlama    1\n",
       "Name: Departman, dtype: int64"
      ]
     },
     "execution_count": 43,
     "metadata": {},
     "output_type": "execute_result"
    }
   ],
   "source": [
    "maas_df[\"Departman\"].value_counts()"
   ]
  },
  {
   "cell_type": "code",
   "execution_count": null,
   "id": "d3be7bd8",
   "metadata": {},
   "outputs": [],
   "source": []
  }
 ],
 "metadata": {
  "kernelspec": {
   "display_name": "Python 3 (ipykernel)",
   "language": "python",
   "name": "python3"
  },
  "language_info": {
   "codemirror_mode": {
    "name": "ipython",
    "version": 3
   },
   "file_extension": ".py",
   "mimetype": "text/x-python",
   "name": "python",
   "nbconvert_exporter": "python",
   "pygments_lexer": "ipython3",
   "version": "3.10.2"
  }
 },
 "nbformat": 4,
 "nbformat_minor": 5
}
